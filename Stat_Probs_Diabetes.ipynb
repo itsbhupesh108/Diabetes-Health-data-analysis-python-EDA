{
 "cells": [
  {
   "cell_type": "code",
   "execution_count": 2,
   "id": "10d43a24",
   "metadata": {},
   "outputs": [],
   "source": [
    "# Importing Pandas, Numpy, Matplotlib and Seaborn Library\n",
    "import pandas as pd # Pandas for Python data analysis\n",
    "import numpy as np # Numpy for Python numerical data\n",
    "import matplotlib.pyplot as plt # Matplotlib for visualization data\n",
    "import seaborn as sns# Seaborn for Visualization data\n",
    "import warnings # it is used to remove the warnings\n",
    "warnings.filterwarnings(\"ignore\")"
   ]
  },
  {
   "cell_type": "markdown",
   "id": "632d8620",
   "metadata": {},
   "source": [
    "# Reading the file from the folder [Import data]"
   ]
  },
  {
   "cell_type": "code",
   "execution_count": 4,
   "id": "fa3619f5",
   "metadata": {},
   "outputs": [],
   "source": [
    "df=pd.read_csv(\"diabetes_012_health_indicators_BRFSS2015.csv\") # .csv stands for comma seperated values"
   ]
  },
  {
   "cell_type": "markdown",
   "id": "501ba270",
   "metadata": {},
   "source": [
    "# Data Info\n",
    "\n",
    "#Diabetes_012\n",
    "0 = no diabetes 1 = prediabetes 2 = diabetes\n",
    "\n",
    "#HighBP\n",
    "0 = no high BP 1 = high BP\n",
    "\n",
    "#HighChol\n",
    "0 = no high cholesterol 1 = high cholesterol\n",
    "\n",
    "#CholCheck\n",
    "0 = no cholesterol check in 5 years 1 = yes cholesterol check in 5 years\n",
    "\n",
    "#BMI\n",
    "Body Mass Index\n",
    "BMI ranges\n",
    "below 18.5 – you're in the underweight range. \n",
    "between 18.5 and 24.9 – you're in the healthy weight range. \n",
    "between 25 and 29.9 – you're in the overweight range. \n",
    "30 or over – you're in the obese range.\n",
    "\n",
    "#Smoker\n",
    "Have you smoked at least 100 cigarettes in your entire life? [Note: 5 packs = 100 cigarettes] 0 = no 1 = yes\n",
    "\n",
    "#Stroke\n",
    "(Ever told) you had a stroke. 0 = no 1 = yes\n",
    "\n",
    "#HeartDiseaseorAttack\n",
    "coronary heart disease (CHD) or myocardial infarction (MI) 0 = no 1 = yes\n",
    "\n",
    "#PhysActivity\n",
    "physical activity in past 30 days - not including job 0 = no 1 = yes\n",
    "\n",
    "#Fruits\n",
    "Consume Fruit 1 or more times per day 0 = no 1 = yes\n",
    "\n",
    "#Veggies\n",
    "Consume Vegetables 1 or more times per day 0 = no 1 = yes\n",
    "\n",
    "#HvyAlcoholConsump\n",
    "Heavy drinkers (adult men having more than 14 drinks per week and adult women having more than 7 drinks per week) 0 = no\n",
    "\n",
    "#AnyHealthcare\n",
    "Have any kind of health care coverage, including health insurance, prepaid plans such as HMO, etc. 0 = no 1 = yes\n",
    "\n",
    "NoDocbcCost\n",
    "Was there a time in the past 12 months when you needed to see a doctor but could not because of cost? 0 = no 1 = yes\n",
    "\n",
    "GenHlth\n",
    "Would you say that in general your health is: scale 1-5 1 = excellent 2 = very good 3 = good 4 = fair 5 = poor\n",
    "\n",
    "MentHlth\n",
    "Now thinking about your mental health, which includes stress, depression, and problems with emotions, for how many days during the past 30 days was your mental health not good? scale 1-30 days\n",
    "\n",
    "PhysHlth\n",
    "Now thinking about your physical health, which includes physical illness and injury, for how many days during the past 30 days was your physical health not good? scale 1-30 days\n",
    "\n",
    "DiffWalk\n",
    "Do you have serious difficulty walking or climbing stairs? 0 = no 1 = yes\n",
    "\n",
    "#Sex\n",
    "0 = female 1 = male\n",
    "\n",
    "#Age\n",
    "13-level age category (_AGEG5YR see codebook) 1 = 18-24 9 = 60-64 13 = 80 or older\n",
    "\n",
    "#Education\n",
    "Education level (EDUCA see codebook) scale 1-6 \n",
    "1 = Never attended school or only kindergarten \n",
    "2 = Grades 1 through 8 (Elementary) \n",
    "3 = Grades 9 through 11 (Some high school)\n",
    "4 = Grade 12 or GED (High school graduate)\n",
    "5 = College 1 year to 3 years (Some college or technical school)\n",
    "6 = College 4 years or more (College graduate)\n",
    "\n",
    "#Income\n",
    "Income scale (INCOME2 see codebook) scale 1-8\n",
    "1 = less than $10,000 \n",
    "5 = less than $35,000\n",
    "8 = $75,000 or more"
   ]
  },
  {
   "cell_type": "code",
   "execution_count": 3,
   "id": "8c63b054",
   "metadata": {
    "scrolled": true
   },
   "outputs": [
    {
     "data": {
      "text/html": [
       "<div>\n",
       "<style scoped>\n",
       "    .dataframe tbody tr th:only-of-type {\n",
       "        vertical-align: middle;\n",
       "    }\n",
       "\n",
       "    .dataframe tbody tr th {\n",
       "        vertical-align: top;\n",
       "    }\n",
       "\n",
       "    .dataframe thead th {\n",
       "        text-align: right;\n",
       "    }\n",
       "</style>\n",
       "<table border=\"1\" class=\"dataframe\">\n",
       "  <thead>\n",
       "    <tr style=\"text-align: right;\">\n",
       "      <th></th>\n",
       "      <th>Diabetes_012</th>\n",
       "      <th>HighBP</th>\n",
       "      <th>HighChol</th>\n",
       "      <th>CholCheck</th>\n",
       "      <th>BMI</th>\n",
       "      <th>Smoker</th>\n",
       "      <th>Stroke</th>\n",
       "      <th>HeartDiseaseorAttack</th>\n",
       "      <th>PhysActivity</th>\n",
       "      <th>Fruits</th>\n",
       "      <th>...</th>\n",
       "      <th>AnyHealthcare</th>\n",
       "      <th>NoDocbcCost</th>\n",
       "      <th>GenHlth</th>\n",
       "      <th>MentHlth</th>\n",
       "      <th>PhysHlth</th>\n",
       "      <th>DiffWalk</th>\n",
       "      <th>Sex</th>\n",
       "      <th>Age</th>\n",
       "      <th>Education</th>\n",
       "      <th>Income</th>\n",
       "    </tr>\n",
       "  </thead>\n",
       "  <tbody>\n",
       "    <tr>\n",
       "      <th>0</th>\n",
       "      <td>0.0</td>\n",
       "      <td>1.0</td>\n",
       "      <td>1.0</td>\n",
       "      <td>1.0</td>\n",
       "      <td>40.0</td>\n",
       "      <td>1.0</td>\n",
       "      <td>0.0</td>\n",
       "      <td>0.0</td>\n",
       "      <td>0.0</td>\n",
       "      <td>0.0</td>\n",
       "      <td>...</td>\n",
       "      <td>1.0</td>\n",
       "      <td>0.0</td>\n",
       "      <td>5.0</td>\n",
       "      <td>18.0</td>\n",
       "      <td>15.0</td>\n",
       "      <td>1.0</td>\n",
       "      <td>0.0</td>\n",
       "      <td>9.0</td>\n",
       "      <td>4.0</td>\n",
       "      <td>3.0</td>\n",
       "    </tr>\n",
       "    <tr>\n",
       "      <th>1</th>\n",
       "      <td>0.0</td>\n",
       "      <td>0.0</td>\n",
       "      <td>0.0</td>\n",
       "      <td>0.0</td>\n",
       "      <td>25.0</td>\n",
       "      <td>1.0</td>\n",
       "      <td>0.0</td>\n",
       "      <td>0.0</td>\n",
       "      <td>1.0</td>\n",
       "      <td>0.0</td>\n",
       "      <td>...</td>\n",
       "      <td>0.0</td>\n",
       "      <td>1.0</td>\n",
       "      <td>3.0</td>\n",
       "      <td>0.0</td>\n",
       "      <td>0.0</td>\n",
       "      <td>0.0</td>\n",
       "      <td>0.0</td>\n",
       "      <td>7.0</td>\n",
       "      <td>6.0</td>\n",
       "      <td>1.0</td>\n",
       "    </tr>\n",
       "    <tr>\n",
       "      <th>2</th>\n",
       "      <td>0.0</td>\n",
       "      <td>1.0</td>\n",
       "      <td>1.0</td>\n",
       "      <td>1.0</td>\n",
       "      <td>28.0</td>\n",
       "      <td>0.0</td>\n",
       "      <td>0.0</td>\n",
       "      <td>0.0</td>\n",
       "      <td>0.0</td>\n",
       "      <td>1.0</td>\n",
       "      <td>...</td>\n",
       "      <td>1.0</td>\n",
       "      <td>1.0</td>\n",
       "      <td>5.0</td>\n",
       "      <td>30.0</td>\n",
       "      <td>30.0</td>\n",
       "      <td>1.0</td>\n",
       "      <td>0.0</td>\n",
       "      <td>9.0</td>\n",
       "      <td>4.0</td>\n",
       "      <td>8.0</td>\n",
       "    </tr>\n",
       "    <tr>\n",
       "      <th>3</th>\n",
       "      <td>0.0</td>\n",
       "      <td>1.0</td>\n",
       "      <td>0.0</td>\n",
       "      <td>1.0</td>\n",
       "      <td>27.0</td>\n",
       "      <td>0.0</td>\n",
       "      <td>0.0</td>\n",
       "      <td>0.0</td>\n",
       "      <td>1.0</td>\n",
       "      <td>1.0</td>\n",
       "      <td>...</td>\n",
       "      <td>1.0</td>\n",
       "      <td>0.0</td>\n",
       "      <td>2.0</td>\n",
       "      <td>0.0</td>\n",
       "      <td>0.0</td>\n",
       "      <td>0.0</td>\n",
       "      <td>0.0</td>\n",
       "      <td>11.0</td>\n",
       "      <td>3.0</td>\n",
       "      <td>6.0</td>\n",
       "    </tr>\n",
       "    <tr>\n",
       "      <th>4</th>\n",
       "      <td>0.0</td>\n",
       "      <td>1.0</td>\n",
       "      <td>1.0</td>\n",
       "      <td>1.0</td>\n",
       "      <td>24.0</td>\n",
       "      <td>0.0</td>\n",
       "      <td>0.0</td>\n",
       "      <td>0.0</td>\n",
       "      <td>1.0</td>\n",
       "      <td>1.0</td>\n",
       "      <td>...</td>\n",
       "      <td>1.0</td>\n",
       "      <td>0.0</td>\n",
       "      <td>2.0</td>\n",
       "      <td>3.0</td>\n",
       "      <td>0.0</td>\n",
       "      <td>0.0</td>\n",
       "      <td>0.0</td>\n",
       "      <td>11.0</td>\n",
       "      <td>5.0</td>\n",
       "      <td>4.0</td>\n",
       "    </tr>\n",
       "    <tr>\n",
       "      <th>...</th>\n",
       "      <td>...</td>\n",
       "      <td>...</td>\n",
       "      <td>...</td>\n",
       "      <td>...</td>\n",
       "      <td>...</td>\n",
       "      <td>...</td>\n",
       "      <td>...</td>\n",
       "      <td>...</td>\n",
       "      <td>...</td>\n",
       "      <td>...</td>\n",
       "      <td>...</td>\n",
       "      <td>...</td>\n",
       "      <td>...</td>\n",
       "      <td>...</td>\n",
       "      <td>...</td>\n",
       "      <td>...</td>\n",
       "      <td>...</td>\n",
       "      <td>...</td>\n",
       "      <td>...</td>\n",
       "      <td>...</td>\n",
       "      <td>...</td>\n",
       "    </tr>\n",
       "    <tr>\n",
       "      <th>253675</th>\n",
       "      <td>0.0</td>\n",
       "      <td>1.0</td>\n",
       "      <td>1.0</td>\n",
       "      <td>1.0</td>\n",
       "      <td>45.0</td>\n",
       "      <td>0.0</td>\n",
       "      <td>0.0</td>\n",
       "      <td>0.0</td>\n",
       "      <td>0.0</td>\n",
       "      <td>1.0</td>\n",
       "      <td>...</td>\n",
       "      <td>1.0</td>\n",
       "      <td>0.0</td>\n",
       "      <td>3.0</td>\n",
       "      <td>0.0</td>\n",
       "      <td>5.0</td>\n",
       "      <td>0.0</td>\n",
       "      <td>1.0</td>\n",
       "      <td>5.0</td>\n",
       "      <td>6.0</td>\n",
       "      <td>7.0</td>\n",
       "    </tr>\n",
       "    <tr>\n",
       "      <th>253676</th>\n",
       "      <td>2.0</td>\n",
       "      <td>1.0</td>\n",
       "      <td>1.0</td>\n",
       "      <td>1.0</td>\n",
       "      <td>18.0</td>\n",
       "      <td>0.0</td>\n",
       "      <td>0.0</td>\n",
       "      <td>0.0</td>\n",
       "      <td>0.0</td>\n",
       "      <td>0.0</td>\n",
       "      <td>...</td>\n",
       "      <td>1.0</td>\n",
       "      <td>0.0</td>\n",
       "      <td>4.0</td>\n",
       "      <td>0.0</td>\n",
       "      <td>0.0</td>\n",
       "      <td>1.0</td>\n",
       "      <td>0.0</td>\n",
       "      <td>11.0</td>\n",
       "      <td>2.0</td>\n",
       "      <td>4.0</td>\n",
       "    </tr>\n",
       "    <tr>\n",
       "      <th>253677</th>\n",
       "      <td>0.0</td>\n",
       "      <td>0.0</td>\n",
       "      <td>0.0</td>\n",
       "      <td>1.0</td>\n",
       "      <td>28.0</td>\n",
       "      <td>0.0</td>\n",
       "      <td>0.0</td>\n",
       "      <td>0.0</td>\n",
       "      <td>1.0</td>\n",
       "      <td>1.0</td>\n",
       "      <td>...</td>\n",
       "      <td>1.0</td>\n",
       "      <td>0.0</td>\n",
       "      <td>1.0</td>\n",
       "      <td>0.0</td>\n",
       "      <td>0.0</td>\n",
       "      <td>0.0</td>\n",
       "      <td>0.0</td>\n",
       "      <td>2.0</td>\n",
       "      <td>5.0</td>\n",
       "      <td>2.0</td>\n",
       "    </tr>\n",
       "    <tr>\n",
       "      <th>253678</th>\n",
       "      <td>0.0</td>\n",
       "      <td>1.0</td>\n",
       "      <td>0.0</td>\n",
       "      <td>1.0</td>\n",
       "      <td>23.0</td>\n",
       "      <td>0.0</td>\n",
       "      <td>0.0</td>\n",
       "      <td>0.0</td>\n",
       "      <td>0.0</td>\n",
       "      <td>1.0</td>\n",
       "      <td>...</td>\n",
       "      <td>1.0</td>\n",
       "      <td>0.0</td>\n",
       "      <td>3.0</td>\n",
       "      <td>0.0</td>\n",
       "      <td>0.0</td>\n",
       "      <td>0.0</td>\n",
       "      <td>1.0</td>\n",
       "      <td>7.0</td>\n",
       "      <td>5.0</td>\n",
       "      <td>1.0</td>\n",
       "    </tr>\n",
       "    <tr>\n",
       "      <th>253679</th>\n",
       "      <td>2.0</td>\n",
       "      <td>1.0</td>\n",
       "      <td>1.0</td>\n",
       "      <td>1.0</td>\n",
       "      <td>25.0</td>\n",
       "      <td>0.0</td>\n",
       "      <td>0.0</td>\n",
       "      <td>1.0</td>\n",
       "      <td>1.0</td>\n",
       "      <td>1.0</td>\n",
       "      <td>...</td>\n",
       "      <td>1.0</td>\n",
       "      <td>0.0</td>\n",
       "      <td>2.0</td>\n",
       "      <td>0.0</td>\n",
       "      <td>0.0</td>\n",
       "      <td>0.0</td>\n",
       "      <td>0.0</td>\n",
       "      <td>9.0</td>\n",
       "      <td>6.0</td>\n",
       "      <td>2.0</td>\n",
       "    </tr>\n",
       "  </tbody>\n",
       "</table>\n",
       "<p>253680 rows × 22 columns</p>\n",
       "</div>"
      ],
      "text/plain": [
       "        Diabetes_012  HighBP  HighChol  CholCheck   BMI  Smoker  Stroke  \\\n",
       "0                0.0     1.0       1.0        1.0  40.0     1.0     0.0   \n",
       "1                0.0     0.0       0.0        0.0  25.0     1.0     0.0   \n",
       "2                0.0     1.0       1.0        1.0  28.0     0.0     0.0   \n",
       "3                0.0     1.0       0.0        1.0  27.0     0.0     0.0   \n",
       "4                0.0     1.0       1.0        1.0  24.0     0.0     0.0   \n",
       "...              ...     ...       ...        ...   ...     ...     ...   \n",
       "253675           0.0     1.0       1.0        1.0  45.0     0.0     0.0   \n",
       "253676           2.0     1.0       1.0        1.0  18.0     0.0     0.0   \n",
       "253677           0.0     0.0       0.0        1.0  28.0     0.0     0.0   \n",
       "253678           0.0     1.0       0.0        1.0  23.0     0.0     0.0   \n",
       "253679           2.0     1.0       1.0        1.0  25.0     0.0     0.0   \n",
       "\n",
       "        HeartDiseaseorAttack  PhysActivity  Fruits  ...  AnyHealthcare  \\\n",
       "0                        0.0           0.0     0.0  ...            1.0   \n",
       "1                        0.0           1.0     0.0  ...            0.0   \n",
       "2                        0.0           0.0     1.0  ...            1.0   \n",
       "3                        0.0           1.0     1.0  ...            1.0   \n",
       "4                        0.0           1.0     1.0  ...            1.0   \n",
       "...                      ...           ...     ...  ...            ...   \n",
       "253675                   0.0           0.0     1.0  ...            1.0   \n",
       "253676                   0.0           0.0     0.0  ...            1.0   \n",
       "253677                   0.0           1.0     1.0  ...            1.0   \n",
       "253678                   0.0           0.0     1.0  ...            1.0   \n",
       "253679                   1.0           1.0     1.0  ...            1.0   \n",
       "\n",
       "        NoDocbcCost  GenHlth  MentHlth  PhysHlth  DiffWalk  Sex   Age  \\\n",
       "0               0.0      5.0      18.0      15.0       1.0  0.0   9.0   \n",
       "1               1.0      3.0       0.0       0.0       0.0  0.0   7.0   \n",
       "2               1.0      5.0      30.0      30.0       1.0  0.0   9.0   \n",
       "3               0.0      2.0       0.0       0.0       0.0  0.0  11.0   \n",
       "4               0.0      2.0       3.0       0.0       0.0  0.0  11.0   \n",
       "...             ...      ...       ...       ...       ...  ...   ...   \n",
       "253675          0.0      3.0       0.0       5.0       0.0  1.0   5.0   \n",
       "253676          0.0      4.0       0.0       0.0       1.0  0.0  11.0   \n",
       "253677          0.0      1.0       0.0       0.0       0.0  0.0   2.0   \n",
       "253678          0.0      3.0       0.0       0.0       0.0  1.0   7.0   \n",
       "253679          0.0      2.0       0.0       0.0       0.0  0.0   9.0   \n",
       "\n",
       "        Education  Income  \n",
       "0             4.0     3.0  \n",
       "1             6.0     1.0  \n",
       "2             4.0     8.0  \n",
       "3             3.0     6.0  \n",
       "4             5.0     4.0  \n",
       "...           ...     ...  \n",
       "253675        6.0     7.0  \n",
       "253676        2.0     4.0  \n",
       "253677        5.0     2.0  \n",
       "253678        5.0     1.0  \n",
       "253679        6.0     2.0  \n",
       "\n",
       "[253680 rows x 22 columns]"
      ]
     },
     "execution_count": 3,
     "metadata": {},
     "output_type": "execute_result"
    }
   ],
   "source": [
    "df # df stands for data frame"
   ]
  },
  {
   "cell_type": "code",
   "execution_count": 4,
   "id": "cb0ecd75",
   "metadata": {},
   "outputs": [
    {
     "name": "stdout",
     "output_type": "stream",
     "text": [
      "<class 'pandas.core.frame.DataFrame'>\n",
      "RangeIndex: 253680 entries, 0 to 253679\n",
      "Data columns (total 22 columns):\n",
      " #   Column                Non-Null Count   Dtype  \n",
      "---  ------                --------------   -----  \n",
      " 0   Diabetes_012          253680 non-null  float64\n",
      " 1   HighBP                253680 non-null  float64\n",
      " 2   HighChol              253680 non-null  float64\n",
      " 3   CholCheck             253680 non-null  float64\n",
      " 4   BMI                   253680 non-null  float64\n",
      " 5   Smoker                253680 non-null  float64\n",
      " 6   Stroke                253680 non-null  float64\n",
      " 7   HeartDiseaseorAttack  253680 non-null  float64\n",
      " 8   PhysActivity          253680 non-null  float64\n",
      " 9   Fruits                253680 non-null  float64\n",
      " 10  Veggies               253680 non-null  float64\n",
      " 11  HvyAlcoholConsump     253680 non-null  float64\n",
      " 12  AnyHealthcare         253680 non-null  float64\n",
      " 13  NoDocbcCost           253680 non-null  float64\n",
      " 14  GenHlth               253680 non-null  float64\n",
      " 15  MentHlth              253680 non-null  float64\n",
      " 16  PhysHlth              253680 non-null  float64\n",
      " 17  DiffWalk              253680 non-null  float64\n",
      " 18  Sex                   253680 non-null  float64\n",
      " 19  Age                   253680 non-null  float64\n",
      " 20  Education             253680 non-null  float64\n",
      " 21  Income                253680 non-null  float64\n",
      "dtypes: float64(22)\n",
      "memory usage: 42.6 MB\n"
     ]
    }
   ],
   "source": [
    "df.info()"
   ]
  },
  {
   "cell_type": "markdown",
   "id": "e688c8b3",
   "metadata": {},
   "source": [
    "# There is no null value in our data"
   ]
  },
  {
   "cell_type": "markdown",
   "id": "69a030a7",
   "metadata": {},
   "source": [
    "# Let check null value"
   ]
  },
  {
   "cell_type": "code",
   "execution_count": 5,
   "id": "1ecc29bf",
   "metadata": {
    "scrolled": true
   },
   "outputs": [
    {
     "data": {
      "text/plain": [
       "Diabetes_012            0\n",
       "HighBP                  0\n",
       "HighChol                0\n",
       "CholCheck               0\n",
       "BMI                     0\n",
       "Smoker                  0\n",
       "Stroke                  0\n",
       "HeartDiseaseorAttack    0\n",
       "PhysActivity            0\n",
       "Fruits                  0\n",
       "Veggies                 0\n",
       "HvyAlcoholConsump       0\n",
       "AnyHealthcare           0\n",
       "NoDocbcCost             0\n",
       "GenHlth                 0\n",
       "MentHlth                0\n",
       "PhysHlth                0\n",
       "DiffWalk                0\n",
       "Sex                     0\n",
       "Age                     0\n",
       "Education               0\n",
       "Income                  0\n",
       "dtype: int64"
      ]
     },
     "execution_count": 5,
     "metadata": {},
     "output_type": "execute_result"
    }
   ],
   "source": [
    "df.isnull().sum()"
   ]
  },
  {
   "cell_type": "markdown",
   "id": "866dae04",
   "metadata": {},
   "source": [
    "# Lets check for duplicate values"
   ]
  },
  {
   "cell_type": "code",
   "execution_count": 6,
   "id": "89d2330d",
   "metadata": {},
   "outputs": [
    {
     "data": {
      "text/plain": [
       "23899"
      ]
     },
     "execution_count": 6,
     "metadata": {},
     "output_type": "execute_result"
    }
   ],
   "source": [
    "df.duplicated().sum()\n",
    "\n",
    "# We have 23899 rows which are duplicate"
   ]
  },
  {
   "cell_type": "markdown",
   "id": "453d6780",
   "metadata": {},
   "source": [
    "# This function will remove the duplicate values in your data"
   ]
  },
  {
   "cell_type": "code",
   "execution_count": 7,
   "id": "4c7ad240",
   "metadata": {},
   "outputs": [],
   "source": [
    "df=df.drop_duplicates()"
   ]
  },
  {
   "cell_type": "code",
   "execution_count": 8,
   "id": "23b06784",
   "metadata": {},
   "outputs": [
    {
     "data": {
      "text/plain": [
       "0"
      ]
     },
     "execution_count": 8,
     "metadata": {},
     "output_type": "execute_result"
    }
   ],
   "source": [
    "df.duplicated().sum()\n",
    "# Now you dont have any duplicates"
   ]
  },
  {
   "cell_type": "code",
   "execution_count": 9,
   "id": "723f2b2c",
   "metadata": {},
   "outputs": [
    {
     "data": {
      "text/plain": [
       "(229781, 22)"
      ]
     },
     "execution_count": 9,
     "metadata": {},
     "output_type": "execute_result"
    }
   ],
   "source": [
    "df.shape\n",
    "# 229781 Rows and 22 columns"
   ]
  },
  {
   "cell_type": "markdown",
   "id": "2cbafadd",
   "metadata": {},
   "source": [
    "# Viewing the Data Frame"
   ]
  },
  {
   "cell_type": "code",
   "execution_count": 10,
   "id": "9c93e666",
   "metadata": {},
   "outputs": [
    {
     "data": {
      "text/html": [
       "<div>\n",
       "<style scoped>\n",
       "    .dataframe tbody tr th:only-of-type {\n",
       "        vertical-align: middle;\n",
       "    }\n",
       "\n",
       "    .dataframe tbody tr th {\n",
       "        vertical-align: top;\n",
       "    }\n",
       "\n",
       "    .dataframe thead th {\n",
       "        text-align: right;\n",
       "    }\n",
       "</style>\n",
       "<table border=\"1\" class=\"dataframe\">\n",
       "  <thead>\n",
       "    <tr style=\"text-align: right;\">\n",
       "      <th></th>\n",
       "      <th>Diabetes_012</th>\n",
       "      <th>HighBP</th>\n",
       "      <th>HighChol</th>\n",
       "      <th>CholCheck</th>\n",
       "      <th>BMI</th>\n",
       "      <th>Smoker</th>\n",
       "      <th>Stroke</th>\n",
       "      <th>HeartDiseaseorAttack</th>\n",
       "      <th>PhysActivity</th>\n",
       "      <th>Fruits</th>\n",
       "      <th>...</th>\n",
       "      <th>AnyHealthcare</th>\n",
       "      <th>NoDocbcCost</th>\n",
       "      <th>GenHlth</th>\n",
       "      <th>MentHlth</th>\n",
       "      <th>PhysHlth</th>\n",
       "      <th>DiffWalk</th>\n",
       "      <th>Sex</th>\n",
       "      <th>Age</th>\n",
       "      <th>Education</th>\n",
       "      <th>Income</th>\n",
       "    </tr>\n",
       "  </thead>\n",
       "  <tbody>\n",
       "    <tr>\n",
       "      <th>count</th>\n",
       "      <td>229781.000000</td>\n",
       "      <td>229781.000000</td>\n",
       "      <td>229781.000000</td>\n",
       "      <td>229781.000000</td>\n",
       "      <td>229781.00000</td>\n",
       "      <td>229781.000000</td>\n",
       "      <td>229781.000000</td>\n",
       "      <td>229781.000000</td>\n",
       "      <td>229781.000000</td>\n",
       "      <td>229781.000000</td>\n",
       "      <td>...</td>\n",
       "      <td>229781.000000</td>\n",
       "      <td>229781.000000</td>\n",
       "      <td>229781.000000</td>\n",
       "      <td>229781.000000</td>\n",
       "      <td>229781.000000</td>\n",
       "      <td>229781.000000</td>\n",
       "      <td>229781.000000</td>\n",
       "      <td>229781.000000</td>\n",
       "      <td>229781.000000</td>\n",
       "      <td>229781.000000</td>\n",
       "    </tr>\n",
       "    <tr>\n",
       "      <th>mean</th>\n",
       "      <td>0.325627</td>\n",
       "      <td>0.454441</td>\n",
       "      <td>0.441760</td>\n",
       "      <td>0.959535</td>\n",
       "      <td>28.68567</td>\n",
       "      <td>0.465661</td>\n",
       "      <td>0.044756</td>\n",
       "      <td>0.103216</td>\n",
       "      <td>0.733355</td>\n",
       "      <td>0.612966</td>\n",
       "      <td>...</td>\n",
       "      <td>0.946075</td>\n",
       "      <td>0.092810</td>\n",
       "      <td>2.601151</td>\n",
       "      <td>3.505373</td>\n",
       "      <td>4.675178</td>\n",
       "      <td>0.185507</td>\n",
       "      <td>0.439231</td>\n",
       "      <td>8.086582</td>\n",
       "      <td>4.980568</td>\n",
       "      <td>5.890383</td>\n",
       "    </tr>\n",
       "    <tr>\n",
       "      <th>std</th>\n",
       "      <td>0.724623</td>\n",
       "      <td>0.497921</td>\n",
       "      <td>0.496598</td>\n",
       "      <td>0.197047</td>\n",
       "      <td>6.78636</td>\n",
       "      <td>0.498821</td>\n",
       "      <td>0.206767</td>\n",
       "      <td>0.304241</td>\n",
       "      <td>0.442206</td>\n",
       "      <td>0.487073</td>\n",
       "      <td>...</td>\n",
       "      <td>0.225871</td>\n",
       "      <td>0.290167</td>\n",
       "      <td>1.064685</td>\n",
       "      <td>7.713725</td>\n",
       "      <td>9.046568</td>\n",
       "      <td>0.388709</td>\n",
       "      <td>0.496295</td>\n",
       "      <td>3.093809</td>\n",
       "      <td>0.992895</td>\n",
       "      <td>2.092477</td>\n",
       "    </tr>\n",
       "    <tr>\n",
       "      <th>min</th>\n",
       "      <td>0.000000</td>\n",
       "      <td>0.000000</td>\n",
       "      <td>0.000000</td>\n",
       "      <td>0.000000</td>\n",
       "      <td>12.00000</td>\n",
       "      <td>0.000000</td>\n",
       "      <td>0.000000</td>\n",
       "      <td>0.000000</td>\n",
       "      <td>0.000000</td>\n",
       "      <td>0.000000</td>\n",
       "      <td>...</td>\n",
       "      <td>0.000000</td>\n",
       "      <td>0.000000</td>\n",
       "      <td>1.000000</td>\n",
       "      <td>0.000000</td>\n",
       "      <td>0.000000</td>\n",
       "      <td>0.000000</td>\n",
       "      <td>0.000000</td>\n",
       "      <td>1.000000</td>\n",
       "      <td>1.000000</td>\n",
       "      <td>1.000000</td>\n",
       "    </tr>\n",
       "    <tr>\n",
       "      <th>25%</th>\n",
       "      <td>0.000000</td>\n",
       "      <td>0.000000</td>\n",
       "      <td>0.000000</td>\n",
       "      <td>1.000000</td>\n",
       "      <td>24.00000</td>\n",
       "      <td>0.000000</td>\n",
       "      <td>0.000000</td>\n",
       "      <td>0.000000</td>\n",
       "      <td>0.000000</td>\n",
       "      <td>0.000000</td>\n",
       "      <td>...</td>\n",
       "      <td>1.000000</td>\n",
       "      <td>0.000000</td>\n",
       "      <td>2.000000</td>\n",
       "      <td>0.000000</td>\n",
       "      <td>0.000000</td>\n",
       "      <td>0.000000</td>\n",
       "      <td>0.000000</td>\n",
       "      <td>6.000000</td>\n",
       "      <td>4.000000</td>\n",
       "      <td>5.000000</td>\n",
       "    </tr>\n",
       "    <tr>\n",
       "      <th>50%</th>\n",
       "      <td>0.000000</td>\n",
       "      <td>0.000000</td>\n",
       "      <td>0.000000</td>\n",
       "      <td>1.000000</td>\n",
       "      <td>27.00000</td>\n",
       "      <td>0.000000</td>\n",
       "      <td>0.000000</td>\n",
       "      <td>0.000000</td>\n",
       "      <td>1.000000</td>\n",
       "      <td>1.000000</td>\n",
       "      <td>...</td>\n",
       "      <td>1.000000</td>\n",
       "      <td>0.000000</td>\n",
       "      <td>3.000000</td>\n",
       "      <td>0.000000</td>\n",
       "      <td>0.000000</td>\n",
       "      <td>0.000000</td>\n",
       "      <td>0.000000</td>\n",
       "      <td>8.000000</td>\n",
       "      <td>5.000000</td>\n",
       "      <td>6.000000</td>\n",
       "    </tr>\n",
       "    <tr>\n",
       "      <th>75%</th>\n",
       "      <td>0.000000</td>\n",
       "      <td>1.000000</td>\n",
       "      <td>1.000000</td>\n",
       "      <td>1.000000</td>\n",
       "      <td>32.00000</td>\n",
       "      <td>1.000000</td>\n",
       "      <td>0.000000</td>\n",
       "      <td>0.000000</td>\n",
       "      <td>1.000000</td>\n",
       "      <td>1.000000</td>\n",
       "      <td>...</td>\n",
       "      <td>1.000000</td>\n",
       "      <td>0.000000</td>\n",
       "      <td>3.000000</td>\n",
       "      <td>2.000000</td>\n",
       "      <td>4.000000</td>\n",
       "      <td>0.000000</td>\n",
       "      <td>1.000000</td>\n",
       "      <td>10.000000</td>\n",
       "      <td>6.000000</td>\n",
       "      <td>8.000000</td>\n",
       "    </tr>\n",
       "    <tr>\n",
       "      <th>max</th>\n",
       "      <td>2.000000</td>\n",
       "      <td>1.000000</td>\n",
       "      <td>1.000000</td>\n",
       "      <td>1.000000</td>\n",
       "      <td>98.00000</td>\n",
       "      <td>1.000000</td>\n",
       "      <td>1.000000</td>\n",
       "      <td>1.000000</td>\n",
       "      <td>1.000000</td>\n",
       "      <td>1.000000</td>\n",
       "      <td>...</td>\n",
       "      <td>1.000000</td>\n",
       "      <td>1.000000</td>\n",
       "      <td>5.000000</td>\n",
       "      <td>30.000000</td>\n",
       "      <td>30.000000</td>\n",
       "      <td>1.000000</td>\n",
       "      <td>1.000000</td>\n",
       "      <td>13.000000</td>\n",
       "      <td>6.000000</td>\n",
       "      <td>8.000000</td>\n",
       "    </tr>\n",
       "  </tbody>\n",
       "</table>\n",
       "<p>8 rows × 22 columns</p>\n",
       "</div>"
      ],
      "text/plain": [
       "        Diabetes_012         HighBP       HighChol      CholCheck  \\\n",
       "count  229781.000000  229781.000000  229781.000000  229781.000000   \n",
       "mean        0.325627       0.454441       0.441760       0.959535   \n",
       "std         0.724623       0.497921       0.496598       0.197047   \n",
       "min         0.000000       0.000000       0.000000       0.000000   \n",
       "25%         0.000000       0.000000       0.000000       1.000000   \n",
       "50%         0.000000       0.000000       0.000000       1.000000   \n",
       "75%         0.000000       1.000000       1.000000       1.000000   \n",
       "max         2.000000       1.000000       1.000000       1.000000   \n",
       "\n",
       "                BMI         Smoker         Stroke  HeartDiseaseorAttack  \\\n",
       "count  229781.00000  229781.000000  229781.000000         229781.000000   \n",
       "mean       28.68567       0.465661       0.044756              0.103216   \n",
       "std         6.78636       0.498821       0.206767              0.304241   \n",
       "min        12.00000       0.000000       0.000000              0.000000   \n",
       "25%        24.00000       0.000000       0.000000              0.000000   \n",
       "50%        27.00000       0.000000       0.000000              0.000000   \n",
       "75%        32.00000       1.000000       0.000000              0.000000   \n",
       "max        98.00000       1.000000       1.000000              1.000000   \n",
       "\n",
       "        PhysActivity         Fruits  ...  AnyHealthcare    NoDocbcCost  \\\n",
       "count  229781.000000  229781.000000  ...  229781.000000  229781.000000   \n",
       "mean        0.733355       0.612966  ...       0.946075       0.092810   \n",
       "std         0.442206       0.487073  ...       0.225871       0.290167   \n",
       "min         0.000000       0.000000  ...       0.000000       0.000000   \n",
       "25%         0.000000       0.000000  ...       1.000000       0.000000   \n",
       "50%         1.000000       1.000000  ...       1.000000       0.000000   \n",
       "75%         1.000000       1.000000  ...       1.000000       0.000000   \n",
       "max         1.000000       1.000000  ...       1.000000       1.000000   \n",
       "\n",
       "             GenHlth       MentHlth       PhysHlth       DiffWalk  \\\n",
       "count  229781.000000  229781.000000  229781.000000  229781.000000   \n",
       "mean        2.601151       3.505373       4.675178       0.185507   \n",
       "std         1.064685       7.713725       9.046568       0.388709   \n",
       "min         1.000000       0.000000       0.000000       0.000000   \n",
       "25%         2.000000       0.000000       0.000000       0.000000   \n",
       "50%         3.000000       0.000000       0.000000       0.000000   \n",
       "75%         3.000000       2.000000       4.000000       0.000000   \n",
       "max         5.000000      30.000000      30.000000       1.000000   \n",
       "\n",
       "                 Sex            Age      Education         Income  \n",
       "count  229781.000000  229781.000000  229781.000000  229781.000000  \n",
       "mean        0.439231       8.086582       4.980568       5.890383  \n",
       "std         0.496295       3.093809       0.992895       2.092477  \n",
       "min         0.000000       1.000000       1.000000       1.000000  \n",
       "25%         0.000000       6.000000       4.000000       5.000000  \n",
       "50%         0.000000       8.000000       5.000000       6.000000  \n",
       "75%         1.000000      10.000000       6.000000       8.000000  \n",
       "max         1.000000      13.000000       6.000000       8.000000  \n",
       "\n",
       "[8 rows x 22 columns]"
      ]
     },
     "execution_count": 10,
     "metadata": {},
     "output_type": "execute_result"
    }
   ],
   "source": [
    "df.describe()"
   ]
  },
  {
   "cell_type": "markdown",
   "id": "15c9ae07",
   "metadata": {},
   "source": [
    "# Lets plot some charts\n",
    "# Histogram"
   ]
  },
  {
   "cell_type": "markdown",
   "id": "cdaefe22",
   "metadata": {},
   "source": [
    "# Histogram for Diabetes"
   ]
  },
  {
   "cell_type": "code",
   "execution_count": 11,
   "id": "797fafd8",
   "metadata": {
    "scrolled": true
   },
   "outputs": [
    {
     "data": {
      "text/plain": [
       "(array([190055.,      0.,      0.,      0.,      0.,   4629.,      0.,\n",
       "             0.,      0.,  35097.]),\n",
       " array([0. , 0.2, 0.4, 0.6, 0.8, 1. , 1.2, 1.4, 1.6, 1.8, 2. ]),\n",
       " <BarContainer object of 10 artists>)"
      ]
     },
     "execution_count": 11,
     "metadata": {},
     "output_type": "execute_result"
    },
    {
     "data": {
      "image/png": "[encoded data removed]",
      "text/plain": [
       "<Figure size 640x480 with 1 Axes>"
      ]
     },
     "metadata": {},
     "output_type": "display_data"
    }
   ],
   "source": [
    "plt.hist(df['Diabetes_012'])\n",
    "# This will not work perfectly for Diabetes_012 because it is a categorial data"
   ]
  },
  {
   "cell_type": "markdown",
   "id": "9f5a4c47",
   "metadata": {},
   "source": [
    "# Category wise value count for Diabetes"
   ]
  },
  {
   "cell_type": "code",
   "execution_count": 12,
   "id": "b182fcf5",
   "metadata": {},
   "outputs": [
    {
     "data": {
      "text/plain": [
       "0.0    190055\n",
       "2.0     35097\n",
       "1.0      4629\n",
       "Name: Diabetes_012, dtype: int64"
      ]
     },
     "execution_count": 12,
     "metadata": {},
     "output_type": "execute_result"
    }
   ],
   "source": [
    "no_of_diab=df[\"Diabetes_012\"].value_counts()\n",
    "no_of_diab\n",
    "# There are 3 categories in diabetes column"
   ]
  },
  {
   "cell_type": "markdown",
   "id": "d3a52566",
   "metadata": {},
   "source": [
    "# Barplot"
   ]
  },
  {
   "cell_type": "code",
   "execution_count": 13,
   "id": "f463d93c",
   "metadata": {},
   "outputs": [
    {
     "data": {
      "text/plain": [
       "<AxesSubplot:>"
      ]
     },
     "execution_count": 13,
     "metadata": {},
     "output_type": "execute_result"
    },
    {
     "data": {
      "image/png": "[encoded data removed]",
      "text/plain": [
       "<Figure size 640x480 with 1 Axes>"
      ]
     },
     "metadata": {},
     "output_type": "display_data"
    }
   ],
   "source": [
    "sns.barplot(no_of_diab.index, no_of_diab.values)\n",
    "\n",
    "# barplot will work as (x as an index,y as a values)"
   ]
  },
  {
   "cell_type": "markdown",
   "id": "7ef722c6",
   "metadata": {},
   "source": [
    "# Category wise value count for High Blood Pressure"
   ]
  },
  {
   "cell_type": "code",
   "execution_count": 14,
   "id": "77b9be84",
   "metadata": {},
   "outputs": [
    {
     "data": {
      "text/plain": [
       "0.0    125359\n",
       "1.0    104422\n",
       "Name: HighBP, dtype: int64"
      ]
     },
     "execution_count": 14,
     "metadata": {},
     "output_type": "execute_result"
    }
   ],
   "source": [
    "no_of_hb=df[\"HighBP\"].value_counts()\n",
    "no_of_hb\n",
    "# There are 2 categories in High BP column"
   ]
  },
  {
   "cell_type": "markdown",
   "id": "3a77b3c2",
   "metadata": {},
   "source": [
    "# Barplot for high BP"
   ]
  },
  {
   "cell_type": "code",
   "execution_count": 15,
   "id": "e8eead7f",
   "metadata": {},
   "outputs": [
    {
     "data": {
      "text/plain": [
       "<AxesSubplot:>"
      ]
     },
     "execution_count": 15,
     "metadata": {},
     "output_type": "execute_result"
    },
    {
     "data": {
      "image/png": "[encoded data removed]",
      "text/plain": [
       "<Figure size 640x480 with 1 Axes>"
      ]
     },
     "metadata": {},
     "output_type": "display_data"
    }
   ],
   "source": [
    "sns.barplot(no_of_hb.index, no_of_hb.values)"
   ]
  },
  {
   "cell_type": "markdown",
   "id": "be746bdb",
   "metadata": {},
   "source": [
    "# Observations:\n",
    "There are almost 125359 people who do not have diabetes.\n",
    "There are almost 104422 lakh people who have diabetes."
   ]
  },
  {
   "cell_type": "markdown",
   "id": "85a24991",
   "metadata": {},
   "source": [
    "# Return the total number of percentage who do not have diabetes"
   ]
  },
  {
   "cell_type": "code",
   "execution_count": 16,
   "id": "1b1129c3",
   "metadata": {
    "scrolled": true
   },
   "outputs": [
    {
     "name": "stdout",
     "output_type": "stream",
     "text": [
      "Percentage of people who does not have high blood pressure:  54.55585970989768\n"
     ]
    }
   ],
   "source": [
    "td=125359\n",
    "td+104422\n",
    "td1=td/229781*100\n",
    "print(\"Percentage of people who does not have high blood pressure: \",td1)"
   ]
  },
  {
   "cell_type": "markdown",
   "id": "a859a0ef",
   "metadata": {},
   "source": [
    "# Return the total number of percentage who have diabetes"
   ]
  },
  {
   "cell_type": "code",
   "execution_count": 17,
   "id": "52eee008",
   "metadata": {},
   "outputs": [
    {
     "name": "stdout",
     "output_type": "stream",
     "text": [
      "Percentage of people who have High Blood Presure:  45.44414029010231\n"
     ]
    }
   ],
   "source": [
    "td2=104422\n",
    "td2+125359\n",
    "td3=td2/229781*100\n",
    "print(\"Percentage of people who have High Blood Presure: \",td3)"
   ]
  },
  {
   "cell_type": "markdown",
   "id": "a3713f2a",
   "metadata": {},
   "source": [
    "# Pie Chart\n",
    "\n",
    "Pie chart gives the percentage distribution"
   ]
  },
  {
   "cell_type": "markdown",
   "id": "af0ec36b",
   "metadata": {},
   "source": [
    "# Pie chart for HighBP"
   ]
  },
  {
   "cell_type": "code",
   "execution_count": 18,
   "id": "2246abb3",
   "metadata": {},
   "outputs": [
    {
     "data": {
      "text/plain": [
       "([<matplotlib.patches.Wedge at 0x26000156250>,\n",
       "  <matplotlib.patches.Wedge at 0x26000156be0>],\n",
       " [Text(-0.15690214394817223, 1.0887523672646904, '0.0'),\n",
       "  Text(0.15690204201181832, -1.0887523819549245, '1.0')],\n",
       " [Text(-0.08558298760809394, 0.593864927598922, '54.6'),\n",
       "  Text(0.08558293200644634, -0.5938649356117769, '45.4')])"
      ]
     },
     "execution_count": 18,
     "metadata": {},
     "output_type": "execute_result"
    },
    {
     "data": {
      "image/png": "[encoded data removed]",
      "text/plain": [
       "<Figure size 640x480 with 1 Axes>"
      ]
     },
     "metadata": {},
     "output_type": "display_data"
    }
   ],
   "source": [
    "labels=no_of_hb.index\n",
    "sizes=no_of_hb.values\n",
    "plt.pie(sizes,labels=labels,autopct=\"%0.1f\",shadow=True)"
   ]
  },
  {
   "cell_type": "markdown",
   "id": "9f74caae",
   "metadata": {},
   "source": [
    "# Category wise value count for High cholestrol"
   ]
  },
  {
   "cell_type": "code",
   "execution_count": 19,
   "id": "0c861234",
   "metadata": {},
   "outputs": [
    {
     "data": {
      "text/plain": [
       "0.0    128273\n",
       "1.0    101508\n",
       "Name: HighChol, dtype: int64"
      ]
     },
     "execution_count": 19,
     "metadata": {},
     "output_type": "execute_result"
    }
   ],
   "source": [
    "no_of_hch=df[\"HighChol\"].value_counts()\n",
    "no_of_hch"
   ]
  },
  {
   "cell_type": "markdown",
   "id": "00ff1a49",
   "metadata": {},
   "source": [
    "# Pie for HighChol"
   ]
  },
  {
   "cell_type": "code",
   "execution_count": 20,
   "id": "93c097a9",
   "metadata": {},
   "outputs": [
    {
     "data": {
      "text/plain": [
       "([<matplotlib.patches.Wedge at 0x260001b2160>,\n",
       "  <matplotlib.patches.Wedge at 0x260001b2af0>],\n",
       " [Text(-0.2001427315349982, 1.0816389818297554, '0.0'),\n",
       "  Text(0.2001427315349976, -1.0816389818297554, '1.0')],\n",
       " [Text(-0.10916876265545356, 0.5899848991798665, '55.8'),\n",
       "  Text(0.10916876265545322, -0.5899848991798665, '44.2')])"
      ]
     },
     "execution_count": 20,
     "metadata": {},
     "output_type": "execute_result"
    },
    {
     "data": {
      "image/png": "[encoded data removed]",
      "text/plain": [
       "<Figure size 640x480 with 1 Axes>"
      ]
     },
     "metadata": {},
     "output_type": "display_data"
    }
   ],
   "source": [
    "labels1=no_of_hch.index\n",
    "size1=no_of_hch.values\n",
    "plt.pie(size1,labels=labels1,autopct=\"%0.1f\",shadow=True)"
   ]
  },
  {
   "cell_type": "markdown",
   "id": "83cd9ca8",
   "metadata": {},
   "source": [
    "# Viewing the Data Frame"
   ]
  },
  {
   "cell_type": "code",
   "execution_count": 21,
   "id": "704806c6",
   "metadata": {},
   "outputs": [
    {
     "data": {
      "text/html": [
       "<div>\n",
       "<style scoped>\n",
       "    .dataframe tbody tr th:only-of-type {\n",
       "        vertical-align: middle;\n",
       "    }\n",
       "\n",
       "    .dataframe tbody tr th {\n",
       "        vertical-align: top;\n",
       "    }\n",
       "\n",
       "    .dataframe thead th {\n",
       "        text-align: right;\n",
       "    }\n",
       "</style>\n",
       "<table border=\"1\" class=\"dataframe\">\n",
       "  <thead>\n",
       "    <tr style=\"text-align: right;\">\n",
       "      <th></th>\n",
       "      <th>Diabetes_012</th>\n",
       "      <th>HighBP</th>\n",
       "      <th>HighChol</th>\n",
       "      <th>CholCheck</th>\n",
       "      <th>BMI</th>\n",
       "      <th>Smoker</th>\n",
       "      <th>Stroke</th>\n",
       "      <th>HeartDiseaseorAttack</th>\n",
       "      <th>PhysActivity</th>\n",
       "      <th>Fruits</th>\n",
       "      <th>...</th>\n",
       "      <th>AnyHealthcare</th>\n",
       "      <th>NoDocbcCost</th>\n",
       "      <th>GenHlth</th>\n",
       "      <th>MentHlth</th>\n",
       "      <th>PhysHlth</th>\n",
       "      <th>DiffWalk</th>\n",
       "      <th>Sex</th>\n",
       "      <th>Age</th>\n",
       "      <th>Education</th>\n",
       "      <th>Income</th>\n",
       "    </tr>\n",
       "  </thead>\n",
       "  <tbody>\n",
       "    <tr>\n",
       "      <th>count</th>\n",
       "      <td>229781.000000</td>\n",
       "      <td>229781.000000</td>\n",
       "      <td>229781.000000</td>\n",
       "      <td>229781.000000</td>\n",
       "      <td>229781.00000</td>\n",
       "      <td>229781.000000</td>\n",
       "      <td>229781.000000</td>\n",
       "      <td>229781.000000</td>\n",
       "      <td>229781.000000</td>\n",
       "      <td>229781.000000</td>\n",
       "      <td>...</td>\n",
       "      <td>229781.000000</td>\n",
       "      <td>229781.000000</td>\n",
       "      <td>229781.000000</td>\n",
       "      <td>229781.000000</td>\n",
       "      <td>229781.000000</td>\n",
       "      <td>229781.000000</td>\n",
       "      <td>229781.000000</td>\n",
       "      <td>229781.000000</td>\n",
       "      <td>229781.000000</td>\n",
       "      <td>229781.000000</td>\n",
       "    </tr>\n",
       "    <tr>\n",
       "      <th>mean</th>\n",
       "      <td>0.325627</td>\n",
       "      <td>0.454441</td>\n",
       "      <td>0.441760</td>\n",
       "      <td>0.959535</td>\n",
       "      <td>28.68567</td>\n",
       "      <td>0.465661</td>\n",
       "      <td>0.044756</td>\n",
       "      <td>0.103216</td>\n",
       "      <td>0.733355</td>\n",
       "      <td>0.612966</td>\n",
       "      <td>...</td>\n",
       "      <td>0.946075</td>\n",
       "      <td>0.092810</td>\n",
       "      <td>2.601151</td>\n",
       "      <td>3.505373</td>\n",
       "      <td>4.675178</td>\n",
       "      <td>0.185507</td>\n",
       "      <td>0.439231</td>\n",
       "      <td>8.086582</td>\n",
       "      <td>4.980568</td>\n",
       "      <td>5.890383</td>\n",
       "    </tr>\n",
       "    <tr>\n",
       "      <th>std</th>\n",
       "      <td>0.724623</td>\n",
       "      <td>0.497921</td>\n",
       "      <td>0.496598</td>\n",
       "      <td>0.197047</td>\n",
       "      <td>6.78636</td>\n",
       "      <td>0.498821</td>\n",
       "      <td>0.206767</td>\n",
       "      <td>0.304241</td>\n",
       "      <td>0.442206</td>\n",
       "      <td>0.487073</td>\n",
       "      <td>...</td>\n",
       "      <td>0.225871</td>\n",
       "      <td>0.290167</td>\n",
       "      <td>1.064685</td>\n",
       "      <td>7.713725</td>\n",
       "      <td>9.046568</td>\n",
       "      <td>0.388709</td>\n",
       "      <td>0.496295</td>\n",
       "      <td>3.093809</td>\n",
       "      <td>0.992895</td>\n",
       "      <td>2.092477</td>\n",
       "    </tr>\n",
       "    <tr>\n",
       "      <th>min</th>\n",
       "      <td>0.000000</td>\n",
       "      <td>0.000000</td>\n",
       "      <td>0.000000</td>\n",
       "      <td>0.000000</td>\n",
       "      <td>12.00000</td>\n",
       "      <td>0.000000</td>\n",
       "      <td>0.000000</td>\n",
       "      <td>0.000000</td>\n",
       "      <td>0.000000</td>\n",
       "      <td>0.000000</td>\n",
       "      <td>...</td>\n",
       "      <td>0.000000</td>\n",
       "      <td>0.000000</td>\n",
       "      <td>1.000000</td>\n",
       "      <td>0.000000</td>\n",
       "      <td>0.000000</td>\n",
       "      <td>0.000000</td>\n",
       "      <td>0.000000</td>\n",
       "      <td>1.000000</td>\n",
       "      <td>1.000000</td>\n",
       "      <td>1.000000</td>\n",
       "    </tr>\n",
       "    <tr>\n",
       "      <th>25%</th>\n",
       "      <td>0.000000</td>\n",
       "      <td>0.000000</td>\n",
       "      <td>0.000000</td>\n",
       "      <td>1.000000</td>\n",
       "      <td>24.00000</td>\n",
       "      <td>0.000000</td>\n",
       "      <td>0.000000</td>\n",
       "      <td>0.000000</td>\n",
       "      <td>0.000000</td>\n",
       "      <td>0.000000</td>\n",
       "      <td>...</td>\n",
       "      <td>1.000000</td>\n",
       "      <td>0.000000</td>\n",
       "      <td>2.000000</td>\n",
       "      <td>0.000000</td>\n",
       "      <td>0.000000</td>\n",
       "      <td>0.000000</td>\n",
       "      <td>0.000000</td>\n",
       "      <td>6.000000</td>\n",
       "      <td>4.000000</td>\n",
       "      <td>5.000000</td>\n",
       "    </tr>\n",
       "    <tr>\n",
       "      <th>50%</th>\n",
       "      <td>0.000000</td>\n",
       "      <td>0.000000</td>\n",
       "      <td>0.000000</td>\n",
       "      <td>1.000000</td>\n",
       "      <td>27.00000</td>\n",
       "      <td>0.000000</td>\n",
       "      <td>0.000000</td>\n",
       "      <td>0.000000</td>\n",
       "      <td>1.000000</td>\n",
       "      <td>1.000000</td>\n",
       "      <td>...</td>\n",
       "      <td>1.000000</td>\n",
       "      <td>0.000000</td>\n",
       "      <td>3.000000</td>\n",
       "      <td>0.000000</td>\n",
       "      <td>0.000000</td>\n",
       "      <td>0.000000</td>\n",
       "      <td>0.000000</td>\n",
       "      <td>8.000000</td>\n",
       "      <td>5.000000</td>\n",
       "      <td>6.000000</td>\n",
       "    </tr>\n",
       "    <tr>\n",
       "      <th>75%</th>\n",
       "      <td>0.000000</td>\n",
       "      <td>1.000000</td>\n",
       "      <td>1.000000</td>\n",
       "      <td>1.000000</td>\n",
       "      <td>32.00000</td>\n",
       "      <td>1.000000</td>\n",
       "      <td>0.000000</td>\n",
       "      <td>0.000000</td>\n",
       "      <td>1.000000</td>\n",
       "      <td>1.000000</td>\n",
       "      <td>...</td>\n",
       "      <td>1.000000</td>\n",
       "      <td>0.000000</td>\n",
       "      <td>3.000000</td>\n",
       "      <td>2.000000</td>\n",
       "      <td>4.000000</td>\n",
       "      <td>0.000000</td>\n",
       "      <td>1.000000</td>\n",
       "      <td>10.000000</td>\n",
       "      <td>6.000000</td>\n",
       "      <td>8.000000</td>\n",
       "    </tr>\n",
       "    <tr>\n",
       "      <th>max</th>\n",
       "      <td>2.000000</td>\n",
       "      <td>1.000000</td>\n",
       "      <td>1.000000</td>\n",
       "      <td>1.000000</td>\n",
       "      <td>98.00000</td>\n",
       "      <td>1.000000</td>\n",
       "      <td>1.000000</td>\n",
       "      <td>1.000000</td>\n",
       "      <td>1.000000</td>\n",
       "      <td>1.000000</td>\n",
       "      <td>...</td>\n",
       "      <td>1.000000</td>\n",
       "      <td>1.000000</td>\n",
       "      <td>5.000000</td>\n",
       "      <td>30.000000</td>\n",
       "      <td>30.000000</td>\n",
       "      <td>1.000000</td>\n",
       "      <td>1.000000</td>\n",
       "      <td>13.000000</td>\n",
       "      <td>6.000000</td>\n",
       "      <td>8.000000</td>\n",
       "    </tr>\n",
       "  </tbody>\n",
       "</table>\n",
       "<p>8 rows × 22 columns</p>\n",
       "</div>"
      ],
      "text/plain": [
       "        Diabetes_012         HighBP       HighChol      CholCheck  \\\n",
       "count  229781.000000  229781.000000  229781.000000  229781.000000   \n",
       "mean        0.325627       0.454441       0.441760       0.959535   \n",
       "std         0.724623       0.497921       0.496598       0.197047   \n",
       "min         0.000000       0.000000       0.000000       0.000000   \n",
       "25%         0.000000       0.000000       0.000000       1.000000   \n",
       "50%         0.000000       0.000000       0.000000       1.000000   \n",
       "75%         0.000000       1.000000       1.000000       1.000000   \n",
       "max         2.000000       1.000000       1.000000       1.000000   \n",
       "\n",
       "                BMI         Smoker         Stroke  HeartDiseaseorAttack  \\\n",
       "count  229781.00000  229781.000000  229781.000000         229781.000000   \n",
       "mean       28.68567       0.465661       0.044756              0.103216   \n",
       "std         6.78636       0.498821       0.206767              0.304241   \n",
       "min        12.00000       0.000000       0.000000              0.000000   \n",
       "25%        24.00000       0.000000       0.000000              0.000000   \n",
       "50%        27.00000       0.000000       0.000000              0.000000   \n",
       "75%        32.00000       1.000000       0.000000              0.000000   \n",
       "max        98.00000       1.000000       1.000000              1.000000   \n",
       "\n",
       "        PhysActivity         Fruits  ...  AnyHealthcare    NoDocbcCost  \\\n",
       "count  229781.000000  229781.000000  ...  229781.000000  229781.000000   \n",
       "mean        0.733355       0.612966  ...       0.946075       0.092810   \n",
       "std         0.442206       0.487073  ...       0.225871       0.290167   \n",
       "min         0.000000       0.000000  ...       0.000000       0.000000   \n",
       "25%         0.000000       0.000000  ...       1.000000       0.000000   \n",
       "50%         1.000000       1.000000  ...       1.000000       0.000000   \n",
       "75%         1.000000       1.000000  ...       1.000000       0.000000   \n",
       "max         1.000000       1.000000  ...       1.000000       1.000000   \n",
       "\n",
       "             GenHlth       MentHlth       PhysHlth       DiffWalk  \\\n",
       "count  229781.000000  229781.000000  229781.000000  229781.000000   \n",
       "mean        2.601151       3.505373       4.675178       0.185507   \n",
       "std         1.064685       7.713725       9.046568       0.388709   \n",
       "min         1.000000       0.000000       0.000000       0.000000   \n",
       "25%         2.000000       0.000000       0.000000       0.000000   \n",
       "50%         3.000000       0.000000       0.000000       0.000000   \n",
       "75%         3.000000       2.000000       4.000000       0.000000   \n",
       "max         5.000000      30.000000      30.000000       1.000000   \n",
       "\n",
       "                 Sex            Age      Education         Income  \n",
       "count  229781.000000  229781.000000  229781.000000  229781.000000  \n",
       "mean        0.439231       8.086582       4.980568       5.890383  \n",
       "std         0.496295       3.093809       0.992895       2.092477  \n",
       "min         0.000000       1.000000       1.000000       1.000000  \n",
       "25%         0.000000       6.000000       4.000000       5.000000  \n",
       "50%         0.000000       8.000000       5.000000       6.000000  \n",
       "75%         1.000000      10.000000       6.000000       8.000000  \n",
       "max         1.000000      13.000000       6.000000       8.000000  \n",
       "\n",
       "[8 rows x 22 columns]"
      ]
     },
     "execution_count": 21,
     "metadata": {},
     "output_type": "execute_result"
    }
   ],
   "source": [
    "df.describe()"
   ]
  },
  {
   "cell_type": "markdown",
   "id": "bef52634",
   "metadata": {},
   "source": [
    "# Category wise value count for High cholestrol check also make pie for it"
   ]
  },
  {
   "cell_type": "code",
   "execution_count": 22,
   "id": "90f719c6",
   "metadata": {},
   "outputs": [
    {
     "data": {
      "text/plain": [
       "1.0    220483\n",
       "0.0      9298\n",
       "Name: CholCheck, dtype: int64"
      ]
     },
     "execution_count": 22,
     "metadata": {},
     "output_type": "execute_result"
    }
   ],
   "source": [
    "no_of_chck=df[\"CholCheck\"].value_counts()\n",
    "no_of_chck"
   ]
  },
  {
   "cell_type": "code",
   "execution_count": 23,
   "id": "5da94b53",
   "metadata": {},
   "outputs": [
    {
     "data": {
      "text/plain": [
       "([<matplotlib.patches.Wedge at 0x260001fff70>,\n",
       "  <matplotlib.patches.Wedge at 0x2600020a940>],\n",
       " [Text(-1.0911237638540383, 0.13945942762322386, '1.0'),\n",
       "  Text(1.0911237540611851, -0.13945950424200854, '0.0')],\n",
       " [Text(-0.5951584166476571, 0.07606877870357663, '95.95354'),\n",
       "  Text(0.5951584113061009, -0.07606882049564101, '4.04646')])"
      ]
     },
     "execution_count": 23,
     "metadata": {},
     "output_type": "execute_result"
    },
    {
     "data": {
      "image/png": "[encoded data removed]",
      "text/plain": [
       "<Figure size 640x480 with 1 Axes>"
      ]
     },
     "metadata": {},
     "output_type": "display_data"
    }
   ],
   "source": [
    "labels2=no_of_chck.index\n",
    "sizes2=no_of_chck.values\n",
    "plt.pie(sizes2,labels=labels2,autopct=\"%0.5f\",shadow=True)"
   ]
  },
  {
   "cell_type": "markdown",
   "id": "450e6ee8",
   "metadata": {},
   "source": [
    "# Viewing the Data Frame"
   ]
  },
  {
   "cell_type": "code",
   "execution_count": 24,
   "id": "0a46b858",
   "metadata": {},
   "outputs": [
    {
     "data": {
      "text/html": [
       "<div>\n",
       "<style scoped>\n",
       "    .dataframe tbody tr th:only-of-type {\n",
       "        vertical-align: middle;\n",
       "    }\n",
       "\n",
       "    .dataframe tbody tr th {\n",
       "        vertical-align: top;\n",
       "    }\n",
       "\n",
       "    .dataframe thead th {\n",
       "        text-align: right;\n",
       "    }\n",
       "</style>\n",
       "<table border=\"1\" class=\"dataframe\">\n",
       "  <thead>\n",
       "    <tr style=\"text-align: right;\">\n",
       "      <th></th>\n",
       "      <th>Diabetes_012</th>\n",
       "      <th>HighBP</th>\n",
       "      <th>HighChol</th>\n",
       "      <th>CholCheck</th>\n",
       "      <th>BMI</th>\n",
       "      <th>Smoker</th>\n",
       "      <th>Stroke</th>\n",
       "      <th>HeartDiseaseorAttack</th>\n",
       "      <th>PhysActivity</th>\n",
       "      <th>Fruits</th>\n",
       "      <th>...</th>\n",
       "      <th>AnyHealthcare</th>\n",
       "      <th>NoDocbcCost</th>\n",
       "      <th>GenHlth</th>\n",
       "      <th>MentHlth</th>\n",
       "      <th>PhysHlth</th>\n",
       "      <th>DiffWalk</th>\n",
       "      <th>Sex</th>\n",
       "      <th>Age</th>\n",
       "      <th>Education</th>\n",
       "      <th>Income</th>\n",
       "    </tr>\n",
       "  </thead>\n",
       "  <tbody>\n",
       "    <tr>\n",
       "      <th>count</th>\n",
       "      <td>229781.000000</td>\n",
       "      <td>229781.000000</td>\n",
       "      <td>229781.000000</td>\n",
       "      <td>229781.000000</td>\n",
       "      <td>229781.00000</td>\n",
       "      <td>229781.000000</td>\n",
       "      <td>229781.000000</td>\n",
       "      <td>229781.000000</td>\n",
       "      <td>229781.000000</td>\n",
       "      <td>229781.000000</td>\n",
       "      <td>...</td>\n",
       "      <td>229781.000000</td>\n",
       "      <td>229781.000000</td>\n",
       "      <td>229781.000000</td>\n",
       "      <td>229781.000000</td>\n",
       "      <td>229781.000000</td>\n",
       "      <td>229781.000000</td>\n",
       "      <td>229781.000000</td>\n",
       "      <td>229781.000000</td>\n",
       "      <td>229781.000000</td>\n",
       "      <td>229781.000000</td>\n",
       "    </tr>\n",
       "    <tr>\n",
       "      <th>mean</th>\n",
       "      <td>0.325627</td>\n",
       "      <td>0.454441</td>\n",
       "      <td>0.441760</td>\n",
       "      <td>0.959535</td>\n",
       "      <td>28.68567</td>\n",
       "      <td>0.465661</td>\n",
       "      <td>0.044756</td>\n",
       "      <td>0.103216</td>\n",
       "      <td>0.733355</td>\n",
       "      <td>0.612966</td>\n",
       "      <td>...</td>\n",
       "      <td>0.946075</td>\n",
       "      <td>0.092810</td>\n",
       "      <td>2.601151</td>\n",
       "      <td>3.505373</td>\n",
       "      <td>4.675178</td>\n",
       "      <td>0.185507</td>\n",
       "      <td>0.439231</td>\n",
       "      <td>8.086582</td>\n",
       "      <td>4.980568</td>\n",
       "      <td>5.890383</td>\n",
       "    </tr>\n",
       "    <tr>\n",
       "      <th>std</th>\n",
       "      <td>0.724623</td>\n",
       "      <td>0.497921</td>\n",
       "      <td>0.496598</td>\n",
       "      <td>0.197047</td>\n",
       "      <td>6.78636</td>\n",
       "      <td>0.498821</td>\n",
       "      <td>0.206767</td>\n",
       "      <td>0.304241</td>\n",
       "      <td>0.442206</td>\n",
       "      <td>0.487073</td>\n",
       "      <td>...</td>\n",
       "      <td>0.225871</td>\n",
       "      <td>0.290167</td>\n",
       "      <td>1.064685</td>\n",
       "      <td>7.713725</td>\n",
       "      <td>9.046568</td>\n",
       "      <td>0.388709</td>\n",
       "      <td>0.496295</td>\n",
       "      <td>3.093809</td>\n",
       "      <td>0.992895</td>\n",
       "      <td>2.092477</td>\n",
       "    </tr>\n",
       "    <tr>\n",
       "      <th>min</th>\n",
       "      <td>0.000000</td>\n",
       "      <td>0.000000</td>\n",
       "      <td>0.000000</td>\n",
       "      <td>0.000000</td>\n",
       "      <td>12.00000</td>\n",
       "      <td>0.000000</td>\n",
       "      <td>0.000000</td>\n",
       "      <td>0.000000</td>\n",
       "      <td>0.000000</td>\n",
       "      <td>0.000000</td>\n",
       "      <td>...</td>\n",
       "      <td>0.000000</td>\n",
       "      <td>0.000000</td>\n",
       "      <td>1.000000</td>\n",
       "      <td>0.000000</td>\n",
       "      <td>0.000000</td>\n",
       "      <td>0.000000</td>\n",
       "      <td>0.000000</td>\n",
       "      <td>1.000000</td>\n",
       "      <td>1.000000</td>\n",
       "      <td>1.000000</td>\n",
       "    </tr>\n",
       "    <tr>\n",
       "      <th>25%</th>\n",
       "      <td>0.000000</td>\n",
       "      <td>0.000000</td>\n",
       "      <td>0.000000</td>\n",
       "      <td>1.000000</td>\n",
       "      <td>24.00000</td>\n",
       "      <td>0.000000</td>\n",
       "      <td>0.000000</td>\n",
       "      <td>0.000000</td>\n",
       "      <td>0.000000</td>\n",
       "      <td>0.000000</td>\n",
       "      <td>...</td>\n",
       "      <td>1.000000</td>\n",
       "      <td>0.000000</td>\n",
       "      <td>2.000000</td>\n",
       "      <td>0.000000</td>\n",
       "      <td>0.000000</td>\n",
       "      <td>0.000000</td>\n",
       "      <td>0.000000</td>\n",
       "      <td>6.000000</td>\n",
       "      <td>4.000000</td>\n",
       "      <td>5.000000</td>\n",
       "    </tr>\n",
       "    <tr>\n",
       "      <th>50%</th>\n",
       "      <td>0.000000</td>\n",
       "      <td>0.000000</td>\n",
       "      <td>0.000000</td>\n",
       "      <td>1.000000</td>\n",
       "      <td>27.00000</td>\n",
       "      <td>0.000000</td>\n",
       "      <td>0.000000</td>\n",
       "      <td>0.000000</td>\n",
       "      <td>1.000000</td>\n",
       "      <td>1.000000</td>\n",
       "      <td>...</td>\n",
       "      <td>1.000000</td>\n",
       "      <td>0.000000</td>\n",
       "      <td>3.000000</td>\n",
       "      <td>0.000000</td>\n",
       "      <td>0.000000</td>\n",
       "      <td>0.000000</td>\n",
       "      <td>0.000000</td>\n",
       "      <td>8.000000</td>\n",
       "      <td>5.000000</td>\n",
       "      <td>6.000000</td>\n",
       "    </tr>\n",
       "    <tr>\n",
       "      <th>75%</th>\n",
       "      <td>0.000000</td>\n",
       "      <td>1.000000</td>\n",
       "      <td>1.000000</td>\n",
       "      <td>1.000000</td>\n",
       "      <td>32.00000</td>\n",
       "      <td>1.000000</td>\n",
       "      <td>0.000000</td>\n",
       "      <td>0.000000</td>\n",
       "      <td>1.000000</td>\n",
       "      <td>1.000000</td>\n",
       "      <td>...</td>\n",
       "      <td>1.000000</td>\n",
       "      <td>0.000000</td>\n",
       "      <td>3.000000</td>\n",
       "      <td>2.000000</td>\n",
       "      <td>4.000000</td>\n",
       "      <td>0.000000</td>\n",
       "      <td>1.000000</td>\n",
       "      <td>10.000000</td>\n",
       "      <td>6.000000</td>\n",
       "      <td>8.000000</td>\n",
       "    </tr>\n",
       "    <tr>\n",
       "      <th>max</th>\n",
       "      <td>2.000000</td>\n",
       "      <td>1.000000</td>\n",
       "      <td>1.000000</td>\n",
       "      <td>1.000000</td>\n",
       "      <td>98.00000</td>\n",
       "      <td>1.000000</td>\n",
       "      <td>1.000000</td>\n",
       "      <td>1.000000</td>\n",
       "      <td>1.000000</td>\n",
       "      <td>1.000000</td>\n",
       "      <td>...</td>\n",
       "      <td>1.000000</td>\n",
       "      <td>1.000000</td>\n",
       "      <td>5.000000</td>\n",
       "      <td>30.000000</td>\n",
       "      <td>30.000000</td>\n",
       "      <td>1.000000</td>\n",
       "      <td>1.000000</td>\n",
       "      <td>13.000000</td>\n",
       "      <td>6.000000</td>\n",
       "      <td>8.000000</td>\n",
       "    </tr>\n",
       "  </tbody>\n",
       "</table>\n",
       "<p>8 rows × 22 columns</p>\n",
       "</div>"
      ],
      "text/plain": [
       "        Diabetes_012         HighBP       HighChol      CholCheck  \\\n",
       "count  229781.000000  229781.000000  229781.000000  229781.000000   \n",
       "mean        0.325627       0.454441       0.441760       0.959535   \n",
       "std         0.724623       0.497921       0.496598       0.197047   \n",
       "min         0.000000       0.000000       0.000000       0.000000   \n",
       "25%         0.000000       0.000000       0.000000       1.000000   \n",
       "50%         0.000000       0.000000       0.000000       1.000000   \n",
       "75%         0.000000       1.000000       1.000000       1.000000   \n",
       "max         2.000000       1.000000       1.000000       1.000000   \n",
       "\n",
       "                BMI         Smoker         Stroke  HeartDiseaseorAttack  \\\n",
       "count  229781.00000  229781.000000  229781.000000         229781.000000   \n",
       "mean       28.68567       0.465661       0.044756              0.103216   \n",
       "std         6.78636       0.498821       0.206767              0.304241   \n",
       "min        12.00000       0.000000       0.000000              0.000000   \n",
       "25%        24.00000       0.000000       0.000000              0.000000   \n",
       "50%        27.00000       0.000000       0.000000              0.000000   \n",
       "75%        32.00000       1.000000       0.000000              0.000000   \n",
       "max        98.00000       1.000000       1.000000              1.000000   \n",
       "\n",
       "        PhysActivity         Fruits  ...  AnyHealthcare    NoDocbcCost  \\\n",
       "count  229781.000000  229781.000000  ...  229781.000000  229781.000000   \n",
       "mean        0.733355       0.612966  ...       0.946075       0.092810   \n",
       "std         0.442206       0.487073  ...       0.225871       0.290167   \n",
       "min         0.000000       0.000000  ...       0.000000       0.000000   \n",
       "25%         0.000000       0.000000  ...       1.000000       0.000000   \n",
       "50%         1.000000       1.000000  ...       1.000000       0.000000   \n",
       "75%         1.000000       1.000000  ...       1.000000       0.000000   \n",
       "max         1.000000       1.000000  ...       1.000000       1.000000   \n",
       "\n",
       "             GenHlth       MentHlth       PhysHlth       DiffWalk  \\\n",
       "count  229781.000000  229781.000000  229781.000000  229781.000000   \n",
       "mean        2.601151       3.505373       4.675178       0.185507   \n",
       "std         1.064685       7.713725       9.046568       0.388709   \n",
       "min         1.000000       0.000000       0.000000       0.000000   \n",
       "25%         2.000000       0.000000       0.000000       0.000000   \n",
       "50%         3.000000       0.000000       0.000000       0.000000   \n",
       "75%         3.000000       2.000000       4.000000       0.000000   \n",
       "max         5.000000      30.000000      30.000000       1.000000   \n",
       "\n",
       "                 Sex            Age      Education         Income  \n",
       "count  229781.000000  229781.000000  229781.000000  229781.000000  \n",
       "mean        0.439231       8.086582       4.980568       5.890383  \n",
       "std         0.496295       3.093809       0.992895       2.092477  \n",
       "min         0.000000       1.000000       1.000000       1.000000  \n",
       "25%         0.000000       6.000000       4.000000       5.000000  \n",
       "50%         0.000000       8.000000       5.000000       6.000000  \n",
       "75%         1.000000      10.000000       6.000000       8.000000  \n",
       "max         1.000000      13.000000       6.000000       8.000000  \n",
       "\n",
       "[8 rows x 22 columns]"
      ]
     },
     "execution_count": 24,
     "metadata": {},
     "output_type": "execute_result"
    }
   ],
   "source": [
    "df.describe()"
   ]
  },
  {
   "cell_type": "markdown",
   "id": "56f3fbe5",
   "metadata": {},
   "source": [
    "# Category wise value count for BMI (It is a Numerical data)"
   ]
  },
  {
   "cell_type": "code",
   "execution_count": 25,
   "id": "31a840b5",
   "metadata": {},
   "outputs": [
    {
     "data": {
      "text/plain": [
       "27.0    21551\n",
       "26.0    17808\n",
       "24.0    16537\n",
       "28.0    14933\n",
       "25.0    14809\n",
       "        ...  \n",
       "85.0        1\n",
       "91.0        1\n",
       "86.0        1\n",
       "90.0        1\n",
       "78.0        1\n",
       "Name: BMI, Length: 84, dtype: int64"
      ]
     },
     "execution_count": 25,
     "metadata": {},
     "output_type": "execute_result"
    }
   ],
   "source": [
    "no_of_bmi=df[\"BMI\"].value_counts()\n",
    "no_of_bmi"
   ]
  },
  {
   "cell_type": "markdown",
   "id": "824b9085",
   "metadata": {},
   "source": [
    "# Histogram for BMI"
   ]
  },
  {
   "cell_type": "code",
   "execution_count": 26,
   "id": "d1814bb3",
   "metadata": {},
   "outputs": [
    {
     "data": {
      "text/plain": [
       "(array([1.22040e+04, 1.32635e+05, 6.49540e+04, 1.59190e+04, 2.71200e+03,\n",
       "        6.64000e+02, 1.72000e+02, 2.42000e+02, 2.25000e+02, 5.40000e+01]),\n",
       " array([12. , 20.6, 29.2, 37.8, 46.4, 55. , 63.6, 72.2, 80.8, 89.4, 98. ]),\n",
       " <BarContainer object of 10 artists>)"
      ]
     },
     "execution_count": 26,
     "metadata": {},
     "output_type": "execute_result"
    },
    {
     "data": {
      "image/png": "[encoded data removed]",
      "text/plain": [
       "<Figure size 640x480 with 1 Axes>"
      ]
     },
     "metadata": {},
     "output_type": "display_data"
    }
   ],
   "source": [
    "plt.hist(df[\"BMI\"])\n",
    "# Because the data has a numerical data"
   ]
  },
  {
   "cell_type": "markdown",
   "id": "0d8c97f3",
   "metadata": {},
   "source": [
    "# Observation:\n",
    "1. Majority of people have BMI between 20 to 35\n",
    "2. There are few people who have a BMI between 70 to 90 which is very unhealthy"
   ]
  },
  {
   "cell_type": "markdown",
   "id": "4023e71d",
   "metadata": {},
   "source": []
  },
  {
   "cell_type": "code",
   "execution_count": 27,
   "id": "aaa58e54",
   "metadata": {},
   "outputs": [
    {
     "data": {
      "image/png": "[encoded data removed]",
      "text/plain": [
       "<Figure size 606.486x500 with 1 Axes>"
      ]
     },
     "metadata": {},
     "output_type": "display_data"
    }
   ],
   "source": [
    "sns.FacetGrid(df, hue=\"Diabetes_012\",size=5).map(sns.distplot,\"BMI\",kde=\"True\").add_legend()\n",
    "plt.show()"
   ]
  },
  {
   "cell_type": "markdown",
   "id": "4bc9f5a8",
   "metadata": {},
   "source": [
    "# Viewing the Data Frame"
   ]
  },
  {
   "cell_type": "code",
   "execution_count": 28,
   "id": "fe24c007",
   "metadata": {},
   "outputs": [
    {
     "data": {
      "text/html": [
       "<div>\n",
       "<style scoped>\n",
       "    .dataframe tbody tr th:only-of-type {\n",
       "        vertical-align: middle;\n",
       "    }\n",
       "\n",
       "    .dataframe tbody tr th {\n",
       "        vertical-align: top;\n",
       "    }\n",
       "\n",
       "    .dataframe thead th {\n",
       "        text-align: right;\n",
       "    }\n",
       "</style>\n",
       "<table border=\"1\" class=\"dataframe\">\n",
       "  <thead>\n",
       "    <tr style=\"text-align: right;\">\n",
       "      <th></th>\n",
       "      <th>Diabetes_012</th>\n",
       "      <th>HighBP</th>\n",
       "      <th>HighChol</th>\n",
       "      <th>CholCheck</th>\n",
       "      <th>BMI</th>\n",
       "      <th>Smoker</th>\n",
       "      <th>Stroke</th>\n",
       "      <th>HeartDiseaseorAttack</th>\n",
       "      <th>PhysActivity</th>\n",
       "      <th>Fruits</th>\n",
       "      <th>...</th>\n",
       "      <th>AnyHealthcare</th>\n",
       "      <th>NoDocbcCost</th>\n",
       "      <th>GenHlth</th>\n",
       "      <th>MentHlth</th>\n",
       "      <th>PhysHlth</th>\n",
       "      <th>DiffWalk</th>\n",
       "      <th>Sex</th>\n",
       "      <th>Age</th>\n",
       "      <th>Education</th>\n",
       "      <th>Income</th>\n",
       "    </tr>\n",
       "  </thead>\n",
       "  <tbody>\n",
       "    <tr>\n",
       "      <th>count</th>\n",
       "      <td>229781.000000</td>\n",
       "      <td>229781.000000</td>\n",
       "      <td>229781.000000</td>\n",
       "      <td>229781.000000</td>\n",
       "      <td>229781.00000</td>\n",
       "      <td>229781.000000</td>\n",
       "      <td>229781.000000</td>\n",
       "      <td>229781.000000</td>\n",
       "      <td>229781.000000</td>\n",
       "      <td>229781.000000</td>\n",
       "      <td>...</td>\n",
       "      <td>229781.000000</td>\n",
       "      <td>229781.000000</td>\n",
       "      <td>229781.000000</td>\n",
       "      <td>229781.000000</td>\n",
       "      <td>229781.000000</td>\n",
       "      <td>229781.000000</td>\n",
       "      <td>229781.000000</td>\n",
       "      <td>229781.000000</td>\n",
       "      <td>229781.000000</td>\n",
       "      <td>229781.000000</td>\n",
       "    </tr>\n",
       "    <tr>\n",
       "      <th>mean</th>\n",
       "      <td>0.325627</td>\n",
       "      <td>0.454441</td>\n",
       "      <td>0.441760</td>\n",
       "      <td>0.959535</td>\n",
       "      <td>28.68567</td>\n",
       "      <td>0.465661</td>\n",
       "      <td>0.044756</td>\n",
       "      <td>0.103216</td>\n",
       "      <td>0.733355</td>\n",
       "      <td>0.612966</td>\n",
       "      <td>...</td>\n",
       "      <td>0.946075</td>\n",
       "      <td>0.092810</td>\n",
       "      <td>2.601151</td>\n",
       "      <td>3.505373</td>\n",
       "      <td>4.675178</td>\n",
       "      <td>0.185507</td>\n",
       "      <td>0.439231</td>\n",
       "      <td>8.086582</td>\n",
       "      <td>4.980568</td>\n",
       "      <td>5.890383</td>\n",
       "    </tr>\n",
       "    <tr>\n",
       "      <th>std</th>\n",
       "      <td>0.724623</td>\n",
       "      <td>0.497921</td>\n",
       "      <td>0.496598</td>\n",
       "      <td>0.197047</td>\n",
       "      <td>6.78636</td>\n",
       "      <td>0.498821</td>\n",
       "      <td>0.206767</td>\n",
       "      <td>0.304241</td>\n",
       "      <td>0.442206</td>\n",
       "      <td>0.487073</td>\n",
       "      <td>...</td>\n",
       "      <td>0.225871</td>\n",
       "      <td>0.290167</td>\n",
       "      <td>1.064685</td>\n",
       "      <td>7.713725</td>\n",
       "      <td>9.046568</td>\n",
       "      <td>0.388709</td>\n",
       "      <td>0.496295</td>\n",
       "      <td>3.093809</td>\n",
       "      <td>0.992895</td>\n",
       "      <td>2.092477</td>\n",
       "    </tr>\n",
       "    <tr>\n",
       "      <th>min</th>\n",
       "      <td>0.000000</td>\n",
       "      <td>0.000000</td>\n",
       "      <td>0.000000</td>\n",
       "      <td>0.000000</td>\n",
       "      <td>12.00000</td>\n",
       "      <td>0.000000</td>\n",
       "      <td>0.000000</td>\n",
       "      <td>0.000000</td>\n",
       "      <td>0.000000</td>\n",
       "      <td>0.000000</td>\n",
       "      <td>...</td>\n",
       "      <td>0.000000</td>\n",
       "      <td>0.000000</td>\n",
       "      <td>1.000000</td>\n",
       "      <td>0.000000</td>\n",
       "      <td>0.000000</td>\n",
       "      <td>0.000000</td>\n",
       "      <td>0.000000</td>\n",
       "      <td>1.000000</td>\n",
       "      <td>1.000000</td>\n",
       "      <td>1.000000</td>\n",
       "    </tr>\n",
       "    <tr>\n",
       "      <th>25%</th>\n",
       "      <td>0.000000</td>\n",
       "      <td>0.000000</td>\n",
       "      <td>0.000000</td>\n",
       "      <td>1.000000</td>\n",
       "      <td>24.00000</td>\n",
       "      <td>0.000000</td>\n",
       "      <td>0.000000</td>\n",
       "      <td>0.000000</td>\n",
       "      <td>0.000000</td>\n",
       "      <td>0.000000</td>\n",
       "      <td>...</td>\n",
       "      <td>1.000000</td>\n",
       "      <td>0.000000</td>\n",
       "      <td>2.000000</td>\n",
       "      <td>0.000000</td>\n",
       "      <td>0.000000</td>\n",
       "      <td>0.000000</td>\n",
       "      <td>0.000000</td>\n",
       "      <td>6.000000</td>\n",
       "      <td>4.000000</td>\n",
       "      <td>5.000000</td>\n",
       "    </tr>\n",
       "    <tr>\n",
       "      <th>50%</th>\n",
       "      <td>0.000000</td>\n",
       "      <td>0.000000</td>\n",
       "      <td>0.000000</td>\n",
       "      <td>1.000000</td>\n",
       "      <td>27.00000</td>\n",
       "      <td>0.000000</td>\n",
       "      <td>0.000000</td>\n",
       "      <td>0.000000</td>\n",
       "      <td>1.000000</td>\n",
       "      <td>1.000000</td>\n",
       "      <td>...</td>\n",
       "      <td>1.000000</td>\n",
       "      <td>0.000000</td>\n",
       "      <td>3.000000</td>\n",
       "      <td>0.000000</td>\n",
       "      <td>0.000000</td>\n",
       "      <td>0.000000</td>\n",
       "      <td>0.000000</td>\n",
       "      <td>8.000000</td>\n",
       "      <td>5.000000</td>\n",
       "      <td>6.000000</td>\n",
       "    </tr>\n",
       "    <tr>\n",
       "      <th>75%</th>\n",
       "      <td>0.000000</td>\n",
       "      <td>1.000000</td>\n",
       "      <td>1.000000</td>\n",
       "      <td>1.000000</td>\n",
       "      <td>32.00000</td>\n",
       "      <td>1.000000</td>\n",
       "      <td>0.000000</td>\n",
       "      <td>0.000000</td>\n",
       "      <td>1.000000</td>\n",
       "      <td>1.000000</td>\n",
       "      <td>...</td>\n",
       "      <td>1.000000</td>\n",
       "      <td>0.000000</td>\n",
       "      <td>3.000000</td>\n",
       "      <td>2.000000</td>\n",
       "      <td>4.000000</td>\n",
       "      <td>0.000000</td>\n",
       "      <td>1.000000</td>\n",
       "      <td>10.000000</td>\n",
       "      <td>6.000000</td>\n",
       "      <td>8.000000</td>\n",
       "    </tr>\n",
       "    <tr>\n",
       "      <th>max</th>\n",
       "      <td>2.000000</td>\n",
       "      <td>1.000000</td>\n",
       "      <td>1.000000</td>\n",
       "      <td>1.000000</td>\n",
       "      <td>98.00000</td>\n",
       "      <td>1.000000</td>\n",
       "      <td>1.000000</td>\n",
       "      <td>1.000000</td>\n",
       "      <td>1.000000</td>\n",
       "      <td>1.000000</td>\n",
       "      <td>...</td>\n",
       "      <td>1.000000</td>\n",
       "      <td>1.000000</td>\n",
       "      <td>5.000000</td>\n",
       "      <td>30.000000</td>\n",
       "      <td>30.000000</td>\n",
       "      <td>1.000000</td>\n",
       "      <td>1.000000</td>\n",
       "      <td>13.000000</td>\n",
       "      <td>6.000000</td>\n",
       "      <td>8.000000</td>\n",
       "    </tr>\n",
       "  </tbody>\n",
       "</table>\n",
       "<p>8 rows × 22 columns</p>\n",
       "</div>"
      ],
      "text/plain": [
       "        Diabetes_012         HighBP       HighChol      CholCheck  \\\n",
       "count  229781.000000  229781.000000  229781.000000  229781.000000   \n",
       "mean        0.325627       0.454441       0.441760       0.959535   \n",
       "std         0.724623       0.497921       0.496598       0.197047   \n",
       "min         0.000000       0.000000       0.000000       0.000000   \n",
       "25%         0.000000       0.000000       0.000000       1.000000   \n",
       "50%         0.000000       0.000000       0.000000       1.000000   \n",
       "75%         0.000000       1.000000       1.000000       1.000000   \n",
       "max         2.000000       1.000000       1.000000       1.000000   \n",
       "\n",
       "                BMI         Smoker         Stroke  HeartDiseaseorAttack  \\\n",
       "count  229781.00000  229781.000000  229781.000000         229781.000000   \n",
       "mean       28.68567       0.465661       0.044756              0.103216   \n",
       "std         6.78636       0.498821       0.206767              0.304241   \n",
       "min        12.00000       0.000000       0.000000              0.000000   \n",
       "25%        24.00000       0.000000       0.000000              0.000000   \n",
       "50%        27.00000       0.000000       0.000000              0.000000   \n",
       "75%        32.00000       1.000000       0.000000              0.000000   \n",
       "max        98.00000       1.000000       1.000000              1.000000   \n",
       "\n",
       "        PhysActivity         Fruits  ...  AnyHealthcare    NoDocbcCost  \\\n",
       "count  229781.000000  229781.000000  ...  229781.000000  229781.000000   \n",
       "mean        0.733355       0.612966  ...       0.946075       0.092810   \n",
       "std         0.442206       0.487073  ...       0.225871       0.290167   \n",
       "min         0.000000       0.000000  ...       0.000000       0.000000   \n",
       "25%         0.000000       0.000000  ...       1.000000       0.000000   \n",
       "50%         1.000000       1.000000  ...       1.000000       0.000000   \n",
       "75%         1.000000       1.000000  ...       1.000000       0.000000   \n",
       "max         1.000000       1.000000  ...       1.000000       1.000000   \n",
       "\n",
       "             GenHlth       MentHlth       PhysHlth       DiffWalk  \\\n",
       "count  229781.000000  229781.000000  229781.000000  229781.000000   \n",
       "mean        2.601151       3.505373       4.675178       0.185507   \n",
       "std         1.064685       7.713725       9.046568       0.388709   \n",
       "min         1.000000       0.000000       0.000000       0.000000   \n",
       "25%         2.000000       0.000000       0.000000       0.000000   \n",
       "50%         3.000000       0.000000       0.000000       0.000000   \n",
       "75%         3.000000       2.000000       4.000000       0.000000   \n",
       "max         5.000000      30.000000      30.000000       1.000000   \n",
       "\n",
       "                 Sex            Age      Education         Income  \n",
       "count  229781.000000  229781.000000  229781.000000  229781.000000  \n",
       "mean        0.439231       8.086582       4.980568       5.890383  \n",
       "std         0.496295       3.093809       0.992895       2.092477  \n",
       "min         0.000000       1.000000       1.000000       1.000000  \n",
       "25%         0.000000       6.000000       4.000000       5.000000  \n",
       "50%         0.000000       8.000000       5.000000       6.000000  \n",
       "75%         1.000000      10.000000       6.000000       8.000000  \n",
       "max         1.000000      13.000000       6.000000       8.000000  \n",
       "\n",
       "[8 rows x 22 columns]"
      ]
     },
     "execution_count": 28,
     "metadata": {},
     "output_type": "execute_result"
    }
   ],
   "source": [
    "df.describe()"
   ]
  },
  {
   "cell_type": "markdown",
   "id": "4b680fdf",
   "metadata": {},
   "source": [
    "# How many people who smoke have diabetes"
   ]
  },
  {
   "cell_type": "code",
   "execution_count": 29,
   "id": "284588fb",
   "metadata": {},
   "outputs": [],
   "source": [
    "df_smoke=df[df['Smoker']==1]\n",
    "df_smoke=df_smoke[df_smoke['Diabetes_012']==2]"
   ]
  },
  {
   "cell_type": "code",
   "execution_count": 30,
   "id": "fd70f9c2",
   "metadata": {},
   "outputs": [
    {
     "data": {
      "text/plain": [
       "(18223, 2)"
      ]
     },
     "execution_count": 30,
     "metadata": {},
     "output_type": "execute_result"
    }
   ],
   "source": [
    "df_smoke_diab=df_smoke[['Diabetes_012','Smoker']]\n",
    "df_smoke_diab.shape"
   ]
  },
  {
   "cell_type": "code",
   "execution_count": 31,
   "id": "25cd689d",
   "metadata": {},
   "outputs": [
    {
     "data": {
      "text/plain": [
       "(229781, 22)"
      ]
     },
     "execution_count": 31,
     "metadata": {},
     "output_type": "execute_result"
    }
   ],
   "source": [
    "df.shape"
   ]
  },
  {
   "cell_type": "code",
   "execution_count": 32,
   "id": "93ce7ed9",
   "metadata": {},
   "outputs": [
    {
     "name": "stdout",
     "output_type": "stream",
     "text": [
      "Number of diabetic people who smoke 7.930594783728854\n"
     ]
    }
   ],
   "source": [
    "a=(df_smoke_diab.shape[0]/df.shape[0])*100\n",
    "print(\"Number of diabetic people who smoke\",a)"
   ]
  },
  {
   "cell_type": "markdown",
   "id": "3aa2ad52",
   "metadata": {},
   "source": [
    "# How many people who smoke have prediabetes"
   ]
  },
  {
   "cell_type": "code",
   "execution_count": 33,
   "id": "1d68304e",
   "metadata": {},
   "outputs": [],
   "source": [
    "df_smoke=df[df['Smoker']==1]\n",
    "df_smoke=df_smoke[df_smoke['Diabetes_012']==1]"
   ]
  },
  {
   "cell_type": "code",
   "execution_count": 34,
   "id": "8ae63aa2",
   "metadata": {},
   "outputs": [
    {
     "data": {
      "text/plain": [
       "(2281, 2)"
      ]
     },
     "execution_count": 34,
     "metadata": {},
     "output_type": "execute_result"
    }
   ],
   "source": [
    "df_smoke_pdiab=df_smoke[['Diabetes_012','Smoker']]\n",
    "df_smoke_pdiab.shape"
   ]
  },
  {
   "cell_type": "code",
   "execution_count": 35,
   "id": "2143bcd8",
   "metadata": {},
   "outputs": [
    {
     "data": {
      "text/plain": [
       "(229781, 22)"
      ]
     },
     "execution_count": 35,
     "metadata": {},
     "output_type": "execute_result"
    }
   ],
   "source": [
    "df.shape"
   ]
  },
  {
   "cell_type": "code",
   "execution_count": 36,
   "id": "89206a7e",
   "metadata": {},
   "outputs": [
    {
     "name": "stdout",
     "output_type": "stream",
     "text": [
      "Number of Pre-Diabetic people who smoke 0.9926843385658518\n"
     ]
    }
   ],
   "source": [
    "a=(df_smoke_pdiab.shape[0]/df.shape[0])*100\n",
    "print(\"Number of Pre-Diabetic people who smoke\",a)"
   ]
  },
  {
   "cell_type": "markdown",
   "id": "ca3fb769",
   "metadata": {},
   "source": [
    "# What % of smokers are there in data? Plot pie chart and bar plot"
   ]
  },
  {
   "cell_type": "code",
   "execution_count": 37,
   "id": "c3a43fb0",
   "metadata": {},
   "outputs": [
    {
     "data": {
      "text/plain": [
       "0.0    122781\n",
       "1.0    107000\n",
       "Name: Smoker, dtype: int64"
      ]
     },
     "execution_count": 37,
     "metadata": {},
     "output_type": "execute_result"
    }
   ],
   "source": [
    "per_smk=df['Smoker'].value_counts()\n",
    "per_smk"
   ]
  },
  {
   "cell_type": "markdown",
   "id": "276d9e66",
   "metadata": {},
   "source": [
    "# Pie Chart for % Smokers"
   ]
  },
  {
   "cell_type": "code",
   "execution_count": 38,
   "id": "71d38920",
   "metadata": {
    "scrolled": false
   },
   "outputs": [
    {
     "data": {
      "text/plain": [
       "([<matplotlib.patches.Wedge at 0x260004d1b20>,\n",
       "  <matplotlib.patches.Wedge at 0x260004da4f0>],\n",
       " [Text(-0.11843767741218388, 1.0936052837149277, '0.0'),\n",
       "  Text(0.11843757502146754, -1.0936052948038586, '1.0')],\n",
       " [Text(-0.06460236949755484, 0.596511972935415, '53.43392'),\n",
       "  Text(0.0646023136480732, -0.5965119789839227, '46.56608')])"
      ]
     },
     "execution_count": 38,
     "metadata": {},
     "output_type": "execute_result"
    },
    {
     "data": {
      "image/png": "[encoded data removed]",
      "text/plain": [
       "<Figure size 640x480 with 1 Axes>"
      ]
     },
     "metadata": {},
     "output_type": "display_data"
    }
   ],
   "source": [
    "labels3=per_smk.index\n",
    "sizes3=per_smk.values\n",
    "plt.pie(sizes3,labels=labels3,autopct='%0.5f',shadow=True)"
   ]
  },
  {
   "cell_type": "markdown",
   "id": "ff4216c7",
   "metadata": {},
   "source": [
    "# Bar Plot chart for % smokers"
   ]
  },
  {
   "cell_type": "code",
   "execution_count": 39,
   "id": "c59ab572",
   "metadata": {},
   "outputs": [
    {
     "data": {
      "text/plain": [
       "<AxesSubplot:>"
      ]
     },
     "execution_count": 39,
     "metadata": {},
     "output_type": "execute_result"
    },
    {
     "data": {
      "image/png": "[encoded data removed]",
      "text/plain": [
       "<Figure size 640x480 with 1 Axes>"
      ]
     },
     "metadata": {},
     "output_type": "display_data"
    }
   ],
   "source": [
    "sns.barplot(per_smk.index,per_smk.values)"
   ]
  },
  {
   "cell_type": "markdown",
   "id": "d5661e17",
   "metadata": {},
   "source": [
    "# What % of people have healthy BMI but still diabetes"
   ]
  },
  {
   "cell_type": "code",
   "execution_count": 40,
   "id": "82676ab8",
   "metadata": {},
   "outputs": [
    {
     "data": {
      "text/plain": [
       "(5433, 2)"
      ]
     },
     "execution_count": 40,
     "metadata": {},
     "output_type": "execute_result"
    }
   ],
   "source": [
    "df_bmi=df[(df['BMI']>17) & (df['BMI']<26)]\n",
    "df_bmi=df_bmi[df_bmi['Diabetes_012']==2]\n",
    "df_hbmi_diab=df_bmi[['BMI','Diabetes_012']]\n",
    "df_hbmi_diab.shape\n",
    "# between 18.5 and 24.9 – you're in the healthy weight range"
   ]
  },
  {
   "cell_type": "code",
   "execution_count": 41,
   "id": "a77a961a",
   "metadata": {},
   "outputs": [
    {
     "data": {
      "text/plain": [
       "(229781, 22)"
      ]
     },
     "execution_count": 41,
     "metadata": {},
     "output_type": "execute_result"
    }
   ],
   "source": [
    "df.shape"
   ]
  },
  {
   "cell_type": "code",
   "execution_count": 42,
   "id": "e8da7ff6",
   "metadata": {},
   "outputs": [
    {
     "name": "stdout",
     "output_type": "stream",
     "text": [
      "Number of Diabetic people who have healthy BMI 2.364425257092623\n"
     ]
    }
   ],
   "source": [
    "h=(df_hbmi_diab.shape[0]/df.shape[0])*100\n",
    "print(\"Number of Diabetic people who have healthy BMI\",h)"
   ]
  },
  {
   "cell_type": "markdown",
   "id": "72112f9b",
   "metadata": {},
   "source": [
    "# What % of people does not smoke but have healthy BMI"
   ]
  },
  {
   "cell_type": "code",
   "execution_count": 43,
   "id": "82a6aef8",
   "metadata": {},
   "outputs": [
    {
     "data": {
      "text/plain": [
       "(40693, 2)"
      ]
     },
     "execution_count": 43,
     "metadata": {},
     "output_type": "execute_result"
    }
   ],
   "source": [
    "df_bmi=df[(df['BMI']>17) & (df['BMI']<26)]\n",
    "df_bmi=df_bmi[df_bmi['Smoker']==0]\n",
    "df_hbmi_nsmoker=df_bmi[['BMI','Smoker']]\n",
    "df_hbmi_nsmoker.shape"
   ]
  },
  {
   "cell_type": "code",
   "execution_count": 44,
   "id": "14a8ea4f",
   "metadata": {},
   "outputs": [
    {
     "data": {
      "text/plain": [
       "(229781, 22)"
      ]
     },
     "execution_count": 44,
     "metadata": {},
     "output_type": "execute_result"
    }
   ],
   "source": [
    "df.shape"
   ]
  },
  {
   "cell_type": "code",
   "execution_count": 45,
   "id": "fe74f27f",
   "metadata": {},
   "outputs": [
    {
     "name": "stdout",
     "output_type": "stream",
     "text": [
      "Number of Non-Smoker who have healthy BMI 17.70947119213512\n"
     ]
    }
   ],
   "source": [
    "b=(df_hbmi_nsmoker.shape[0]/df.shape[0])*100\n",
    "print(\"Number of Non-Smoker who have healthy BMI\",b)"
   ]
  },
  {
   "cell_type": "markdown",
   "id": "54cac3b8",
   "metadata": {},
   "source": [
    "# What % of people smoke but have healthy BMI also box plot for same"
   ]
  },
  {
   "cell_type": "code",
   "execution_count": 46,
   "id": "68657589",
   "metadata": {},
   "outputs": [
    {
     "data": {
      "text/plain": [
       "(34787, 2)"
      ]
     },
     "execution_count": 46,
     "metadata": {},
     "output_type": "execute_result"
    }
   ],
   "source": [
    "df_bmi=df[(df['BMI']>17) & (df['BMI']<26) & (df['Smoker']==1)]\n",
    "df_hbmi_smoker=df_bmi[['BMI','Smoker']]\n",
    "df_hbmi_smoker.shape"
   ]
  },
  {
   "cell_type": "code",
   "execution_count": 47,
   "id": "d156acb8",
   "metadata": {},
   "outputs": [
    {
     "data": {
      "text/plain": [
       "(229781, 22)"
      ]
     },
     "execution_count": 47,
     "metadata": {},
     "output_type": "execute_result"
    }
   ],
   "source": [
    "df.shape"
   ]
  },
  {
   "cell_type": "code",
   "execution_count": 48,
   "id": "cd7f20f6",
   "metadata": {},
   "outputs": [
    {
     "name": "stdout",
     "output_type": "stream",
     "text": [
      "Number of Smoker who have healthy BMI 15.139197757865098\n"
     ]
    }
   ],
   "source": [
    "c=(df_hbmi_smoker.shape[0]/df.shape[0])*100\n",
    "print(\"Number of Smoker who have healthy BMI\",c)"
   ]
  },
  {
   "cell_type": "code",
   "execution_count": 49,
   "id": "fcd00cd0",
   "metadata": {},
   "outputs": [
    {
     "data": {
      "text/plain": [
       "<AxesSubplot:xlabel='BMI'>"
      ]
     },
     "execution_count": 49,
     "metadata": {},
     "output_type": "execute_result"
    },
    {
     "data": {
      "image/png": "[encoded data removed]",
      "text/plain": [
       "<Figure size 640x480 with 1 Axes>"
      ]
     },
     "metadata": {},
     "output_type": "display_data"
    }
   ],
   "source": [
    "sns.boxplot(df['BMI'])"
   ]
  },
  {
   "cell_type": "markdown",
   "id": "790bba4c",
   "metadata": {},
   "source": [
    "# Violin Plot"
   ]
  },
  {
   "cell_type": "code",
   "execution_count": 50,
   "id": "a4d84230",
   "metadata": {},
   "outputs": [
    {
     "data": {
      "text/plain": [
       "<AxesSubplot:xlabel='BMI'>"
      ]
     },
     "execution_count": 50,
     "metadata": {},
     "output_type": "execute_result"
    },
    {
     "data": {
      "image/png": "[encoded data removed]",
      "text/plain": [
       "<Figure size 640x480 with 1 Axes>"
      ]
     },
     "metadata": {},
     "output_type": "display_data"
    }
   ],
   "source": [
    "# Combination of boxplot and pdf\n",
    "sns.violinplot(df['BMI'])"
   ]
  },
  {
   "cell_type": "markdown",
   "id": "70257347",
   "metadata": {},
   "source": [
    "# Plot a pie chart stating the diabetes by gender"
   ]
  },
  {
   "cell_type": "code",
   "execution_count": 51,
   "id": "6bdc3eaa",
   "metadata": {},
   "outputs": [
    {
     "data": {
      "text/plain": [
       "(35097, 2)"
      ]
     },
     "execution_count": 51,
     "metadata": {},
     "output_type": "execute_result"
    }
   ],
   "source": [
    "df_diab=df[(df['Diabetes_012']==2)]\n",
    "df_sex_diab=df_diab[['Diabetes_012','Sex']]\n",
    "df_sex_diab.shape"
   ]
  },
  {
   "cell_type": "code",
   "execution_count": 52,
   "id": "bdfd6227",
   "metadata": {},
   "outputs": [
    {
     "data": {
      "text/plain": [
       "0.0    18345\n",
       "1.0    16752\n",
       "Name: Sex, dtype: int64"
      ]
     },
     "execution_count": 52,
     "metadata": {},
     "output_type": "execute_result"
    }
   ],
   "source": [
    "df_sex_diab=df_sex_diab['Sex'].value_counts()\n",
    "df_sex_diab"
   ]
  },
  {
   "cell_type": "code",
   "execution_count": 53,
   "id": "9c0c677a",
   "metadata": {},
   "outputs": [
    {
     "data": {
      "text/plain": [
       "([<matplotlib.patches.Wedge at 0x26000349d90>,\n",
       "  <matplotlib.patches.Wedge at 0x26000437790>],\n",
       " [Text(-0.07835920483950906, 1.0972054661807513, '0.0'),\n",
       "  Text(0.07835910211171926, -1.0972054735172647, '1.0')],\n",
       " [Text(-0.04274138445791403, 0.5984757088258643, '52.26942'),\n",
       "  Text(0.04274132842457414, -0.5984757128275989, '47.73057')])"
      ]
     },
     "execution_count": 53,
     "metadata": {},
     "output_type": "execute_result"
    },
    {
     "data": {
      "image/png": "[encoded data removed]",
      "text/plain": [
       "<Figure size 640x480 with 1 Axes>"
      ]
     },
     "metadata": {},
     "output_type": "display_data"
    }
   ],
   "source": [
    "labels_sex=df_sex_diab.index\n",
    "sizes_sex=df_sex_diab.values\n",
    "plt.pie(sizes_sex,labels=labels_sex,autopct='%0.5f',shadow=True)"
   ]
  },
  {
   "cell_type": "markdown",
   "id": "7cd8def6",
   "metadata": {},
   "source": [
    "# Pie for People who smoke are involved in physical activity"
   ]
  },
  {
   "cell_type": "code",
   "execution_count": 54,
   "id": "cc544d25",
   "metadata": {
    "scrolled": true
   },
   "outputs": [
    {
     "data": {
      "text/plain": [
       "(107000, 2)"
      ]
     },
     "execution_count": 54,
     "metadata": {},
     "output_type": "execute_result"
    }
   ],
   "source": [
    "df_smoke=df[(df['Smoker']==1)]\n",
    "df_smoke=df_smoke[['Smoker','PhysActivity']]\n",
    "df_smoke.shape"
   ]
  },
  {
   "cell_type": "code",
   "execution_count": 55,
   "id": "7c700715",
   "metadata": {},
   "outputs": [
    {
     "data": {
      "text/plain": [
       "1.0    75074\n",
       "0.0    31926\n",
       "Name: PhysActivity, dtype: int64"
      ]
     },
     "execution_count": 55,
     "metadata": {},
     "output_type": "execute_result"
    }
   ],
   "source": [
    "df_smoke=df_smoke['PhysActivity'].value_counts()\n",
    "df_smoke"
   ]
  },
  {
   "cell_type": "code",
   "execution_count": 56,
   "id": "97fa046c",
   "metadata": {},
   "outputs": [
    {
     "data": {
      "text/plain": [
       "([<matplotlib.patches.Wedge at 0x260004abe50>,\n",
       "  <matplotlib.patches.Wedge at 0x260004a9850>],\n",
       " [Text(-0.6511017369373324, 0.8866039296987065, '1.0'),\n",
       "  Text(0.6511017369373324, -0.8866039296987065, '0.0')],\n",
       " [Text(-0.35514640196581765, 0.4836021434720217, '70.16262'),\n",
       "  Text(0.35514640196581765, -0.4836021434720217, '29.83738')])"
      ]
     },
     "execution_count": 56,
     "metadata": {},
     "output_type": "execute_result"
    },
    {
     "data": {
      "image/png": "[encoded data removed]",
      "text/plain": [
       "<Figure size 640x480 with 1 Axes>"
      ]
     },
     "metadata": {},
     "output_type": "display_data"
    }
   ],
   "source": [
    "labels_smoke=df_smoke.index\n",
    "sizes_smoke=df_smoke.values\n",
    "plt.pie(sizes_smoke,labels=labels_smoke,autopct='%0.5f',shadow=True)"
   ]
  },
  {
   "cell_type": "code",
   "execution_count": 57,
   "id": "b8158d8a",
   "metadata": {},
   "outputs": [
    {
     "name": "stdout",
     "output_type": "stream",
     "text": [
      "People who smoke are involve in Physical Activity 0.0008703939838367838\n"
     ]
    }
   ],
   "source": [
    "smkphy=(df_smoke.shape[0]/df.shape[0])*100\n",
    "print(\"People who smoke are involve in Physical Activity\",smkphy)"
   ]
  },
  {
   "cell_type": "markdown",
   "id": "21dfce2e",
   "metadata": {},
   "source": [
    "# Pie for People who smokes and have high colestrol have difficulty walking or climbing stairs"
   ]
  },
  {
   "cell_type": "code",
   "execution_count": 58,
   "id": "caf12110",
   "metadata": {},
   "outputs": [
    {
     "data": {
      "text/plain": [
       "(24855, 3)"
      ]
     },
     "execution_count": 58,
     "metadata": {},
     "output_type": "execute_result"
    }
   ],
   "source": [
    "df_walking=df[df['DiffWalk']==1]\n",
    "df_walking=df_walking[df_walking['HighChol']==1]\n",
    "df_walking=df_walking[['DiffWalk','HighChol','Smoker']]\n",
    "df_walking.shape"
   ]
  },
  {
   "cell_type": "code",
   "execution_count": 59,
   "id": "2af99337",
   "metadata": {},
   "outputs": [
    {
     "data": {
      "text/plain": [
       "1.0    14893\n",
       "0.0     9962\n",
       "Name: Smoker, dtype: int64"
      ]
     },
     "execution_count": 59,
     "metadata": {},
     "output_type": "execute_result"
    }
   ],
   "source": [
    "df_walking=df_walking['Smoker'].value_counts()\n",
    "df_walking"
   ]
  },
  {
   "cell_type": "code",
   "execution_count": 60,
   "id": "1a3b91cd",
   "metadata": {},
   "outputs": [
    {
     "data": {
      "text/plain": [
       "([<matplotlib.patches.Wedge at 0x26000ad6f70>,\n",
       "  <matplotlib.patches.Wedge at 0x26000acc9a0>],\n",
       " [Text(-0.33727307212481394, 1.0470180871501171, '1.0'),\n",
       "  Text(0.3372731701537203, -1.0470180555723285, '0.0')],\n",
       " [Text(-0.1839671302498985, 0.5711007748091548, '59.91954'),\n",
       "  Text(0.18396718372021106, -0.5711007575849064, '40.08047')])"
      ]
     },
     "execution_count": 60,
     "metadata": {},
     "output_type": "execute_result"
    },
    {
     "data": {
      "image/png": "[encoded data removed]",
      "text/plain": [
       "<Figure size 640x480 with 1 Axes>"
      ]
     },
     "metadata": {},
     "output_type": "display_data"
    }
   ],
   "source": [
    "labels_diff=df_walking.index\n",
    "sizes_diff=df_walking.values\n",
    "plt.pie(sizes_diff,labels=labels_diff,autopct='%0.5f',shadow=True)"
   ]
  },
  {
   "cell_type": "code",
   "execution_count": 61,
   "id": "2e4ee97b",
   "metadata": {},
   "outputs": [
    {
     "name": "stdout",
     "output_type": "stream",
     "text": [
      "People who smokes and have high colestrol having difficulty walking or climbing stairs 0.0008703939838367838\n"
     ]
    }
   ],
   "source": [
    "diff=(df_walking.shape[0]/df.shape[0])*100\n",
    "print(\"People who smokes and have high colestrol having difficulty walking or climbing stairs\",diff)"
   ]
  },
  {
   "cell_type": "markdown",
   "id": "8e9237bc",
   "metadata": {},
   "source": [
    "# Pie for People who consume Veg diet and had a stroke?"
   ]
  },
  {
   "cell_type": "code",
   "execution_count": 62,
   "id": "2cae42cb",
   "metadata": {},
   "outputs": [
    {
     "data": {
      "text/plain": [
       "(182633, 2)"
      ]
     },
     "execution_count": 62,
     "metadata": {},
     "output_type": "execute_result"
    }
   ],
   "source": [
    "df_veg=df[(df['Veggies']==1)]\n",
    "df_veg=df_veg[['Veggies','Stroke']]\n",
    "df_veg.shape"
   ]
  },
  {
   "cell_type": "code",
   "execution_count": 63,
   "id": "9859c51e",
   "metadata": {},
   "outputs": [
    {
     "data": {
      "text/plain": [
       "0.0    175095\n",
       "1.0      7538\n",
       "Name: Stroke, dtype: int64"
      ]
     },
     "execution_count": 63,
     "metadata": {},
     "output_type": "execute_result"
    }
   ],
   "source": [
    "df_veg=df_veg['Stroke'].value_counts()\n",
    "df_veg"
   ]
  },
  {
   "cell_type": "code",
   "execution_count": 64,
   "id": "3afe61db",
   "metadata": {},
   "outputs": [
    {
     "data": {
      "text/plain": [
       "([<matplotlib.patches.Wedge at 0x260004782e0>,\n",
       "  <matplotlib.patches.Wedge at 0x26000478ca0>],\n",
       " [Text(-1.090765631317334, 0.14223339107571828, '0.0'),\n",
       "  Text(1.090765639640364, -0.14223332724768784, '1.0')],\n",
       " [Text(-0.5949630716276366, 0.07758184967766452, '95.87260'),\n",
       "  Text(0.5949630761674711, -0.07758181486237518, '4.12740')])"
      ]
     },
     "execution_count": 64,
     "metadata": {},
     "output_type": "execute_result"
    },
    {
     "data": {
      "image/png": "[encoded data removed]",
      "text/plain": [
       "<Figure size 640x480 with 1 Axes>"
      ]
     },
     "metadata": {},
     "output_type": "display_data"
    }
   ],
   "source": [
    "labels_veg=df_veg.index\n",
    "sizes_veg=df_veg.values\n",
    "plt.pie(sizes_veg,labels=labels_veg,autopct=\"%0.5f\",shadow=True)"
   ]
  },
  {
   "cell_type": "code",
   "execution_count": 65,
   "id": "6cd4c429",
   "metadata": {},
   "outputs": [
    {
     "name": "stdout",
     "output_type": "stream",
     "text": [
      "People who consume Veg diet and had a stroke 0.0008703939838367838\n"
     ]
    }
   ],
   "source": [
    "veg=(df_veg.shape[0]/df.shape[0])*100\n",
    "print(\"People who consume Veg diet and had a stroke\",veg)"
   ]
  },
  {
   "cell_type": "markdown",
   "id": "73df3db8",
   "metadata": {},
   "source": [
    "# Pie for People who are heavy drinker have Healthy BMI"
   ]
  },
  {
   "cell_type": "code",
   "execution_count": 66,
   "id": "b1060ff0",
   "metadata": {},
   "outputs": [
    {
     "data": {
      "text/plain": [
       "HvyAlcoholConsump  BMI \n",
       "0.0                24.0    15269\n",
       "                   25.0    13785\n",
       "                   23.0    12251\n",
       "                   22.0    10603\n",
       "                   21.0     7693\n",
       "                   20.0     5069\n",
       "                   19.0     3319\n",
       "                   18.0     1621\n",
       "1.0                24.0     1268\n",
       "                   23.0     1061\n",
       "                   25.0     1024\n",
       "                   22.0      933\n",
       "                   21.0      698\n",
       "                   20.0      473\n",
       "                   19.0      290\n",
       "                   18.0      123\n",
       "dtype: int64"
      ]
     },
     "execution_count": 66,
     "metadata": {},
     "output_type": "execute_result"
    }
   ],
   "source": [
    "df_drink=df[(df['BMI']>17) & (df['BMI']<26)]\n",
    "df_drink=df_drink[['HvyAlcoholConsump','BMI']]\n",
    "df_drink.value_counts()\n"
   ]
  },
  {
   "cell_type": "code",
   "execution_count": 67,
   "id": "fc8f5b4d",
   "metadata": {},
   "outputs": [
    {
     "data": {
      "text/plain": [
       "0.0    69610\n",
       "1.0     5870\n",
       "Name: HvyAlcoholConsump, dtype: int64"
      ]
     },
     "execution_count": 67,
     "metadata": {},
     "output_type": "execute_result"
    }
   ],
   "source": [
    "df_drink=df_drink['HvyAlcoholConsump'].value_counts()\n",
    "df_drink"
   ]
  },
  {
   "cell_type": "code",
   "execution_count": 68,
   "id": "71abd49d",
   "metadata": {},
   "outputs": [
    {
     "data": {
      "text/plain": [
       "([<matplotlib.patches.Wedge at 0x260009448e0>,\n",
       "  <matplotlib.patches.Wedge at 0x260009542e0>],\n",
       " [Text(-1.0673327022396888, 0.26608439024062314, '0.0'),\n",
       "  Text(1.0673327209241499, -0.2660843152924482, '1.0')],\n",
       " [Text(-0.5821814739489211, 0.14513694013124898, '92.22311'),\n",
       "  Text(0.5821814841404453, -0.14513689925042625, '7.77689')])"
      ]
     },
     "execution_count": 68,
     "metadata": {},
     "output_type": "execute_result"
    },
    {
     "data": {
      "image/png": "[encoded data removed]",
      "text/plain": [
       "<Figure size 640x480 with 1 Axes>"
      ]
     },
     "metadata": {},
     "output_type": "display_data"
    }
   ],
   "source": [
    "labels_drink=df_drink.index\n",
    "sizes_drink=df_drink.values\n",
    "plt.pie(sizes_drink,labels=labels_drink,autopct=\"%0.5f\",shadow=True)"
   ]
  },
  {
   "cell_type": "code",
   "execution_count": 69,
   "id": "12df699d",
   "metadata": {},
   "outputs": [
    {
     "name": "stdout",
     "output_type": "stream",
     "text": [
      "People who are heavy drinker have Healthy BMI 0.0008703939838367838\n"
     ]
    }
   ],
   "source": [
    "drink=(df_drink.shape[0]/df.shape[0])*100\n",
    "print(\"People who are heavy drinker have Healthy BMI\",drink)"
   ]
  },
  {
   "cell_type": "markdown",
   "id": "191f6b0b",
   "metadata": {},
   "source": [
    "# Q. Pie for People who are in age group of 18-24 have obesity"
   ]
  },
  {
   "cell_type": "code",
   "execution_count": 71,
   "id": "885a9ca3",
   "metadata": {},
   "outputs": [
    {
     "data": {
      "text/plain": [
       "(2809, 2)"
      ]
     },
     "execution_count": 71,
     "metadata": {},
     "output_type": "execute_result"
    }
   ],
   "source": [
    "df_obesity=df[(df['Age']==1) & (df['BMI']>=25)]\n",
    "df_obesity=df_obesity[['Age','BMI']]\n",
    "df_obesity.shape\n"
   ]
  },
  {
   "cell_type": "code",
   "execution_count": 72,
   "id": "cb803a11",
   "metadata": {},
   "outputs": [
    {
     "name": "stdout",
     "output_type": "stream",
     "text": [
      "People who are in age group of 18-24 have obesity 1.2224683502987628\n"
     ]
    }
   ],
   "source": [
    "obese=(df_obesity.shape[0]/df.shape[0])*100\n",
    "print(\"People who are in age group of 18-24 have obesity\",obese)"
   ]
  },
  {
   "cell_type": "code",
   "execution_count": 73,
   "id": "e1f6b6f2",
   "metadata": {},
   "outputs": [
    {
     "data": {
      "text/plain": [
       "([<matplotlib.patches.Wedge at 0x260006732e0>,\n",
       "  <matplotlib.patches.Wedge at 0x26000673ca0>,\n",
       "  <matplotlib.patches.Wedge at 0x26000681670>,\n",
       "  <matplotlib.patches.Wedge at 0x2600068f040>,\n",
       "  <matplotlib.patches.Wedge at 0x2600068f9d0>,\n",
       "  <matplotlib.patches.Wedge at 0x2600069e3a0>,\n",
       "  <matplotlib.patches.Wedge at 0x2600069ed30>,\n",
       "  <matplotlib.patches.Wedge at 0x260006ab700>,\n",
       "  <matplotlib.patches.Wedge at 0x260006b90d0>,\n",
       "  <matplotlib.patches.Wedge at 0x260006b9a60>,\n",
       "  <matplotlib.patches.Wedge at 0x260006732b0>,\n",
       "  <matplotlib.patches.Wedge at 0x260006c7dc0>,\n",
       "  <matplotlib.patches.Wedge at 0x260006d3790>,\n",
       "  <matplotlib.patches.Wedge at 0x260006e2160>,\n",
       "  <matplotlib.patches.Wedge at 0x260006e2af0>,\n",
       "  <matplotlib.patches.Wedge at 0x260006f14c0>,\n",
       "  <matplotlib.patches.Wedge at 0x260006f1e50>,\n",
       "  <matplotlib.patches.Wedge at 0x260006fd820>,\n",
       "  <matplotlib.patches.Wedge at 0x2600070d1f0>,\n",
       "  <matplotlib.patches.Wedge at 0x2600070db80>,\n",
       "  <matplotlib.patches.Wedge at 0x26000718550>,\n",
       "  <matplotlib.patches.Wedge at 0x26000718ee0>,\n",
       "  <matplotlib.patches.Wedge at 0x260007288b0>,\n",
       "  <matplotlib.patches.Wedge at 0x26000735040>,\n",
       "  <matplotlib.patches.Wedge at 0x260007359d0>,\n",
       "  <matplotlib.patches.Wedge at 0x260007443a0>,\n",
       "  <matplotlib.patches.Wedge at 0x26000744d30>,\n",
       "  <matplotlib.patches.Wedge at 0x26000751700>,\n",
       "  <matplotlib.patches.Wedge at 0x2600075f0d0>,\n",
       "  <matplotlib.patches.Wedge at 0x2600075fa60>,\n",
       "  <matplotlib.patches.Wedge at 0x2600076d430>,\n",
       "  <matplotlib.patches.Wedge at 0x2600076ddc0>,\n",
       "  <matplotlib.patches.Wedge at 0x260007797c0>,\n",
       "  <matplotlib.patches.Wedge at 0x26000787190>,\n",
       "  <matplotlib.patches.Wedge at 0x26000787b20>,\n",
       "  <matplotlib.patches.Wedge at 0x260007944f0>,\n",
       "  <matplotlib.patches.Wedge at 0x26000794e80>,\n",
       "  <matplotlib.patches.Wedge at 0x260007a2850>,\n",
       "  <matplotlib.patches.Wedge at 0x260007b0220>,\n",
       "  <matplotlib.patches.Wedge at 0x260007b0bb0>,\n",
       "  <matplotlib.patches.Wedge at 0x260007bf580>,\n",
       "  <matplotlib.patches.Wedge at 0x260007bff10>,\n",
       "  <matplotlib.patches.Wedge at 0x260007cd8e0>,\n",
       "  <matplotlib.patches.Wedge at 0x260007da2b0>],\n",
       " [Text(0.9933420006090081, 0.4725163169945493, '(1.0, 26.0)'),\n",
       "  Text(0.2697201729527423, 1.066419724265424, '(1.0, 27.0)'),\n",
       "  Text(-0.6006669504571166, 0.9215200565525138, '(1.0, 25.0)'),\n",
       "  Text(-1.0418618334830412, 0.35287946941038656, '(1.0, 28.0)'),\n",
       "  Text(-1.084351214707674, -0.18488494574191922, '(1.0, 29.0)'),\n",
       "  Text(-0.9123462198000608, -0.6145114931525196, '(1.0, 31.0)'),\n",
       "  Text(-0.5944696025459199, -0.9255300598299853, '(1.0, 30.0)'),\n",
       "  Text(-0.22296355261949893, -1.0771663075882443, '(1.0, 32.0)'),\n",
       "  Text(0.10380091706925897, -1.0950914891531123, '(1.0, 33.0)'),\n",
       "  Text(0.38244518192638144, -1.031375626443294, '(1.0, 34.0)'),\n",
       "  Text(0.5913610408179717, -0.9275193364036598, '(1.0, 36.0)'),\n",
       "  Text(0.7388430851399023, -0.814929994257759, '(1.0, 35.0)'),\n",
       "  Text(0.8568828090631833, -0.6897476723643134, '(1.0, 37.0)'),\n",
       "  Text(0.9369870374607077, -0.5762423896509233, '(1.0, 39.0)'),\n",
       "  Text(0.988535619038319, -0.48249075627676824, '(1.0, 38.0)'),\n",
       "  Text(1.0195896134376623, -0.4128401872032793, '(1.0, 40.0)'),\n",
       "  Text(1.0386628926465908, -0.3621869619947918, '(1.0, 43.0)'),\n",
       "  Text(1.054873359325661, -0.3118368095414576, '(1.0, 44.0)'),\n",
       "  Text(1.0680586580538192, -0.26315528297238366, '(1.0, 42.0)'),\n",
       "  Text(1.0782747922507778, -0.217539588113387, '(1.0, 41.0)'),\n",
       "  Text(1.0845573299874405, -0.18367198471872123, '(1.0, 46.0)'),\n",
       "  Text(1.0882151457890332, -0.16058579163597597, '(1.0, 48.0)'),\n",
       "  Text(1.0912272179332443, -0.13864760669291096, '(1.0, 45.0)'),\n",
       "  Text(1.0935334000311971, -0.11909955086485258, '(1.0, 47.0)'),\n",
       "  Text(1.0949158247562998, -0.10563776170589897, '(1.0, 49.0)'),\n",
       "  Text(1.0958171512367734, -0.09583721122467447, '(1.0, 51.0)'),\n",
       "  Text(1.0965338542483878, -0.08725540950093262, '(1.0, 71.0)'),\n",
       "  Text(1.0970946816560923, -0.07989530325318171, '(1.0, 53.0)'),\n",
       "  Text(1.0976061074421297, -0.07253159936011336, '(1.0, 55.0)'),\n",
       "  Text(1.0980681085772548, -0.06516462940560985, '(1.0, 81.0)'),\n",
       "  Text(1.0984806642577882, -0.057794725120623565, '(1.0, 73.0)'),\n",
       "  Text(1.0987866763616978, -0.05165113599925992, '(1.0, 89.0)'),\n",
       "  Text(1.09900674753977, -0.04673509240449269, '(1.0, 82.0)'),\n",
       "  Text(1.099204824126912, -0.041818113493138076, '(1.0, 79.0)'),\n",
       "  Text(1.099380902158986, -0.03690029766945264, '(1.0, 77.0)'),\n",
       "  Text(1.099534978112116, -0.031981743354438236, '(1.0, 92.0)'),\n",
       "  Text(1.0996670489027556, -0.0270625489838802, '(1.0, 62.0)'),\n",
       "  Text(1.099777111887752, -0.022142813006369486, '(1.0, 56.0)'),\n",
       "  Text(1.099865164864398, -0.017222633881340207, '(1.0, 54.0)'),\n",
       "  Text(1.0999312060704756, -0.012302110077092344, '(1.0, 52.0)'),\n",
       "  Text(1.0999662909389543, -0.00861155026695192, '(1.0, 60.0)'),\n",
       "  Text(1.0999828015541415, -0.006151120637939267, '(1.0, 57.0)'),\n",
       "  Text(1.0999938086312324, -0.00369066023305649, '(1.0, 87.0)'),\n",
       "  Text(1.0999993121151554, -0.0012301813627139902, '(1.0, 69.0)')],\n",
       " [Text(0.5418229094230953, 0.2577361729061178, '14.13'),\n",
       "  Text(0.14712009433785941, 0.5816834859629585, '13.85'),\n",
       "  Text(-0.32763651843115443, 0.5026473035740984, '12.42'),\n",
       "  Text(-0.5682882728089315, 0.19247971058748356, '8.79'),\n",
       "  Text(-0.5914642989314584, -0.10084633404104683, '6.98'),\n",
       "  Text(-0.49764339261821494, -0.3351880871741016, '6.51'),\n",
       "  Text(-0.324256146843229, -0.5048345780890828, '6.44'),\n",
       "  Text(-0.12161648324699939, -0.5875452586844968, '5.23'),\n",
       "  Text(0.056618682037777604, -0.5973226304471521, '4.27'),\n",
       "  Text(0.20860646286893533, -0.5625685235145239, '4.02'),\n",
       "  Text(0.3225605677188936, -0.5059196380383598, '2.74'),\n",
       "  Text(0.4030053191672194, -0.44450726959514125, '2.63'),\n",
       "  Text(0.4673906231253726, -0.3762260031078073, '2.35'),\n",
       "  Text(0.5110838386149313, -0.3143140307186854, '1.67'),\n",
       "  Text(0.5392012467481739, -0.26317677615096446, '1.42'),\n",
       "  Text(0.5561397891478157, -0.22518555665633413, '0.78'),\n",
       "  Text(0.5665433959890495, -0.19755652472443186, '0.78'),\n",
       "  Text(0.5753854687230877, -0.1700928052044314, '0.75'),\n",
       "  Text(0.5825774498475377, -0.14353924525766382, '0.71'),\n",
       "  Text(0.5881498866822423, -0.11865795715275654, '0.64'),\n",
       "  Text(0.5915767254476948, -0.10018471893748429, '0.36'),\n",
       "  Text(0.593571897703109, -0.08759224998325961, '0.32'),\n",
       "  Text(0.5952148461454059, -0.07562596728704232, '0.32'),\n",
       "  Text(0.5964727636533802, -0.06496339138082867, '0.25'),\n",
       "  Text(0.5972268135034361, -0.057620597294126705, '0.14'),\n",
       "  Text(0.597718446129149, -0.05227484248618607, '0.14'),\n",
       "  Text(0.5981093750445751, -0.04759385972778142, '0.11'),\n",
       "  Text(0.598415280903323, -0.0435792563199173, '0.11'),\n",
       "  Text(0.5986942404229798, -0.03956269056006183, '0.11'),\n",
       "  Text(0.5989462410421389, -0.035544343312150825, '0.11'),\n",
       "  Text(0.599171271413339, -0.03152439552034012, '0.11'),\n",
       "  Text(0.5993381871063805, -0.028173346908687225, '0.07'),\n",
       "  Text(0.5994582259307836, -0.025491868584268735, '0.07'),\n",
       "  Text(0.5995662677055882, -0.022809880087166223, '0.07'),\n",
       "  Text(0.5996623102685378, -0.02012743509242871, '0.07'),\n",
       "  Text(0.5997463516975177, -0.017444587284239036, '0.07'),\n",
       "  Text(0.5998183903105938, -0.014761390354843742, '0.07'),\n",
       "  Text(0.5998784246660465, -0.012077898003474263, '0.07'),\n",
       "  Text(0.5999264535623988, -0.009394163935276477, '0.07'),\n",
       "  Text(0.5999624760384412, -0.006710241860232187, '0.07'),\n",
       "  Text(0.5999816132394294, -0.004697209236519228, '0.04'),\n",
       "  Text(0.5999906190295317, -0.003355156711603236, '0.04'),\n",
       "  Text(0.5999966228897631, -0.0020130873998489944, '0.04'),\n",
       "  Text(0.5999996247900847, -0.0006710080160258128, '0.04')])"
      ]
     },
     "execution_count": 73,
     "metadata": {},
     "output_type": "execute_result"
    },
    {
     "data": {
      "image/png": "[encoded data removed]",
      "text/plain": [
       "<Figure size 640x480 with 1 Axes>"
      ]
     },
     "metadata": {},
     "output_type": "display_data"
    }
   ],
   "source": [
    "df_obesity=df_obesity.value_counts()\n",
    "index=df_obesity.index\n",
    "sizes=df_obesity.values\n",
    "\n",
    "plt.pie(sizes,labels=index,autopct=\"%0.2f\",shadow=True)"
   ]
  },
  {
   "cell_type": "code",
   "execution_count": null,
   "id": "22d06fa1",
   "metadata": {},
   "outputs": [],
   "source": []
  },
  {
   "cell_type": "code",
   "execution_count": 74,
   "id": "065a61d6",
   "metadata": {},
   "outputs": [
    {
     "name": "stdout",
     "output_type": "stream",
     "text": [
      "the name of the candidate is BHUPESH GHULE and age is 26\n"
     ]
    }
   ],
   "source": [
    "name='BHUPESH GHULE'\n",
    "age=26\n",
    "\n",
    "print(\"the name of the candidate is {0} and age is {1}\".format(name,age))"
   ]
  },
  {
   "cell_type": "code",
   "execution_count": 75,
   "id": "4f317df4",
   "metadata": {
    "scrolled": true
   },
   "outputs": [
    {
     "data": {
      "text/html": [
       "<div>\n",
       "<style scoped>\n",
       "    .dataframe tbody tr th:only-of-type {\n",
       "        vertical-align: middle;\n",
       "    }\n",
       "\n",
       "    .dataframe tbody tr th {\n",
       "        vertical-align: top;\n",
       "    }\n",
       "\n",
       "    .dataframe thead th {\n",
       "        text-align: right;\n",
       "    }\n",
       "</style>\n",
       "<table border=\"1\" class=\"dataframe\">\n",
       "  <thead>\n",
       "    <tr style=\"text-align: right;\">\n",
       "      <th></th>\n",
       "      <th>Diabetes_012</th>\n",
       "      <th>HighBP</th>\n",
       "      <th>HighChol</th>\n",
       "      <th>CholCheck</th>\n",
       "      <th>BMI</th>\n",
       "      <th>Smoker</th>\n",
       "      <th>Stroke</th>\n",
       "      <th>HeartDiseaseorAttack</th>\n",
       "      <th>PhysActivity</th>\n",
       "      <th>Fruits</th>\n",
       "      <th>...</th>\n",
       "      <th>AnyHealthcare</th>\n",
       "      <th>NoDocbcCost</th>\n",
       "      <th>GenHlth</th>\n",
       "      <th>MentHlth</th>\n",
       "      <th>PhysHlth</th>\n",
       "      <th>DiffWalk</th>\n",
       "      <th>Sex</th>\n",
       "      <th>Age</th>\n",
       "      <th>Education</th>\n",
       "      <th>Income</th>\n",
       "    </tr>\n",
       "  </thead>\n",
       "  <tbody>\n",
       "    <tr>\n",
       "      <th>0</th>\n",
       "      <td>0.0</td>\n",
       "      <td>1.0</td>\n",
       "      <td>1.0</td>\n",
       "      <td>1.0</td>\n",
       "      <td>40.0</td>\n",
       "      <td>1.0</td>\n",
       "      <td>0.0</td>\n",
       "      <td>0.0</td>\n",
       "      <td>0.0</td>\n",
       "      <td>0.0</td>\n",
       "      <td>...</td>\n",
       "      <td>1.0</td>\n",
       "      <td>0.0</td>\n",
       "      <td>5.0</td>\n",
       "      <td>18.0</td>\n",
       "      <td>15.0</td>\n",
       "      <td>1.0</td>\n",
       "      <td>0.0</td>\n",
       "      <td>9.0</td>\n",
       "      <td>4.0</td>\n",
       "      <td>3.0</td>\n",
       "    </tr>\n",
       "    <tr>\n",
       "      <th>1</th>\n",
       "      <td>0.0</td>\n",
       "      <td>0.0</td>\n",
       "      <td>0.0</td>\n",
       "      <td>0.0</td>\n",
       "      <td>25.0</td>\n",
       "      <td>1.0</td>\n",
       "      <td>0.0</td>\n",
       "      <td>0.0</td>\n",
       "      <td>1.0</td>\n",
       "      <td>0.0</td>\n",
       "      <td>...</td>\n",
       "      <td>0.0</td>\n",
       "      <td>1.0</td>\n",
       "      <td>3.0</td>\n",
       "      <td>0.0</td>\n",
       "      <td>0.0</td>\n",
       "      <td>0.0</td>\n",
       "      <td>0.0</td>\n",
       "      <td>7.0</td>\n",
       "      <td>6.0</td>\n",
       "      <td>1.0</td>\n",
       "    </tr>\n",
       "    <tr>\n",
       "      <th>2</th>\n",
       "      <td>0.0</td>\n",
       "      <td>1.0</td>\n",
       "      <td>1.0</td>\n",
       "      <td>1.0</td>\n",
       "      <td>28.0</td>\n",
       "      <td>0.0</td>\n",
       "      <td>0.0</td>\n",
       "      <td>0.0</td>\n",
       "      <td>0.0</td>\n",
       "      <td>1.0</td>\n",
       "      <td>...</td>\n",
       "      <td>1.0</td>\n",
       "      <td>1.0</td>\n",
       "      <td>5.0</td>\n",
       "      <td>30.0</td>\n",
       "      <td>30.0</td>\n",
       "      <td>1.0</td>\n",
       "      <td>0.0</td>\n",
       "      <td>9.0</td>\n",
       "      <td>4.0</td>\n",
       "      <td>8.0</td>\n",
       "    </tr>\n",
       "    <tr>\n",
       "      <th>3</th>\n",
       "      <td>0.0</td>\n",
       "      <td>1.0</td>\n",
       "      <td>0.0</td>\n",
       "      <td>1.0</td>\n",
       "      <td>27.0</td>\n",
       "      <td>0.0</td>\n",
       "      <td>0.0</td>\n",
       "      <td>0.0</td>\n",
       "      <td>1.0</td>\n",
       "      <td>1.0</td>\n",
       "      <td>...</td>\n",
       "      <td>1.0</td>\n",
       "      <td>0.0</td>\n",
       "      <td>2.0</td>\n",
       "      <td>0.0</td>\n",
       "      <td>0.0</td>\n",
       "      <td>0.0</td>\n",
       "      <td>0.0</td>\n",
       "      <td>11.0</td>\n",
       "      <td>3.0</td>\n",
       "      <td>6.0</td>\n",
       "    </tr>\n",
       "    <tr>\n",
       "      <th>4</th>\n",
       "      <td>0.0</td>\n",
       "      <td>1.0</td>\n",
       "      <td>1.0</td>\n",
       "      <td>1.0</td>\n",
       "      <td>24.0</td>\n",
       "      <td>0.0</td>\n",
       "      <td>0.0</td>\n",
       "      <td>0.0</td>\n",
       "      <td>1.0</td>\n",
       "      <td>1.0</td>\n",
       "      <td>...</td>\n",
       "      <td>1.0</td>\n",
       "      <td>0.0</td>\n",
       "      <td>2.0</td>\n",
       "      <td>3.0</td>\n",
       "      <td>0.0</td>\n",
       "      <td>0.0</td>\n",
       "      <td>0.0</td>\n",
       "      <td>11.0</td>\n",
       "      <td>5.0</td>\n",
       "      <td>4.0</td>\n",
       "    </tr>\n",
       "    <tr>\n",
       "      <th>...</th>\n",
       "      <td>...</td>\n",
       "      <td>...</td>\n",
       "      <td>...</td>\n",
       "      <td>...</td>\n",
       "      <td>...</td>\n",
       "      <td>...</td>\n",
       "      <td>...</td>\n",
       "      <td>...</td>\n",
       "      <td>...</td>\n",
       "      <td>...</td>\n",
       "      <td>...</td>\n",
       "      <td>...</td>\n",
       "      <td>...</td>\n",
       "      <td>...</td>\n",
       "      <td>...</td>\n",
       "      <td>...</td>\n",
       "      <td>...</td>\n",
       "      <td>...</td>\n",
       "      <td>...</td>\n",
       "      <td>...</td>\n",
       "      <td>...</td>\n",
       "    </tr>\n",
       "    <tr>\n",
       "      <th>253675</th>\n",
       "      <td>0.0</td>\n",
       "      <td>1.0</td>\n",
       "      <td>1.0</td>\n",
       "      <td>1.0</td>\n",
       "      <td>45.0</td>\n",
       "      <td>0.0</td>\n",
       "      <td>0.0</td>\n",
       "      <td>0.0</td>\n",
       "      <td>0.0</td>\n",
       "      <td>1.0</td>\n",
       "      <td>...</td>\n",
       "      <td>1.0</td>\n",
       "      <td>0.0</td>\n",
       "      <td>3.0</td>\n",
       "      <td>0.0</td>\n",
       "      <td>5.0</td>\n",
       "      <td>0.0</td>\n",
       "      <td>1.0</td>\n",
       "      <td>5.0</td>\n",
       "      <td>6.0</td>\n",
       "      <td>7.0</td>\n",
       "    </tr>\n",
       "    <tr>\n",
       "      <th>253676</th>\n",
       "      <td>2.0</td>\n",
       "      <td>1.0</td>\n",
       "      <td>1.0</td>\n",
       "      <td>1.0</td>\n",
       "      <td>18.0</td>\n",
       "      <td>0.0</td>\n",
       "      <td>0.0</td>\n",
       "      <td>0.0</td>\n",
       "      <td>0.0</td>\n",
       "      <td>0.0</td>\n",
       "      <td>...</td>\n",
       "      <td>1.0</td>\n",
       "      <td>0.0</td>\n",
       "      <td>4.0</td>\n",
       "      <td>0.0</td>\n",
       "      <td>0.0</td>\n",
       "      <td>1.0</td>\n",
       "      <td>0.0</td>\n",
       "      <td>11.0</td>\n",
       "      <td>2.0</td>\n",
       "      <td>4.0</td>\n",
       "    </tr>\n",
       "    <tr>\n",
       "      <th>253677</th>\n",
       "      <td>0.0</td>\n",
       "      <td>0.0</td>\n",
       "      <td>0.0</td>\n",
       "      <td>1.0</td>\n",
       "      <td>28.0</td>\n",
       "      <td>0.0</td>\n",
       "      <td>0.0</td>\n",
       "      <td>0.0</td>\n",
       "      <td>1.0</td>\n",
       "      <td>1.0</td>\n",
       "      <td>...</td>\n",
       "      <td>1.0</td>\n",
       "      <td>0.0</td>\n",
       "      <td>1.0</td>\n",
       "      <td>0.0</td>\n",
       "      <td>0.0</td>\n",
       "      <td>0.0</td>\n",
       "      <td>0.0</td>\n",
       "      <td>2.0</td>\n",
       "      <td>5.0</td>\n",
       "      <td>2.0</td>\n",
       "    </tr>\n",
       "    <tr>\n",
       "      <th>253678</th>\n",
       "      <td>0.0</td>\n",
       "      <td>1.0</td>\n",
       "      <td>0.0</td>\n",
       "      <td>1.0</td>\n",
       "      <td>23.0</td>\n",
       "      <td>0.0</td>\n",
       "      <td>0.0</td>\n",
       "      <td>0.0</td>\n",
       "      <td>0.0</td>\n",
       "      <td>1.0</td>\n",
       "      <td>...</td>\n",
       "      <td>1.0</td>\n",
       "      <td>0.0</td>\n",
       "      <td>3.0</td>\n",
       "      <td>0.0</td>\n",
       "      <td>0.0</td>\n",
       "      <td>0.0</td>\n",
       "      <td>1.0</td>\n",
       "      <td>7.0</td>\n",
       "      <td>5.0</td>\n",
       "      <td>1.0</td>\n",
       "    </tr>\n",
       "    <tr>\n",
       "      <th>253679</th>\n",
       "      <td>2.0</td>\n",
       "      <td>1.0</td>\n",
       "      <td>1.0</td>\n",
       "      <td>1.0</td>\n",
       "      <td>25.0</td>\n",
       "      <td>0.0</td>\n",
       "      <td>0.0</td>\n",
       "      <td>1.0</td>\n",
       "      <td>1.0</td>\n",
       "      <td>1.0</td>\n",
       "      <td>...</td>\n",
       "      <td>1.0</td>\n",
       "      <td>0.0</td>\n",
       "      <td>2.0</td>\n",
       "      <td>0.0</td>\n",
       "      <td>0.0</td>\n",
       "      <td>0.0</td>\n",
       "      <td>0.0</td>\n",
       "      <td>9.0</td>\n",
       "      <td>6.0</td>\n",
       "      <td>2.0</td>\n",
       "    </tr>\n",
       "  </tbody>\n",
       "</table>\n",
       "<p>229781 rows × 22 columns</p>\n",
       "</div>"
      ],
      "text/plain": [
       "        Diabetes_012  HighBP  HighChol  CholCheck   BMI  Smoker  Stroke  \\\n",
       "0                0.0     1.0       1.0        1.0  40.0     1.0     0.0   \n",
       "1                0.0     0.0       0.0        0.0  25.0     1.0     0.0   \n",
       "2                0.0     1.0       1.0        1.0  28.0     0.0     0.0   \n",
       "3                0.0     1.0       0.0        1.0  27.0     0.0     0.0   \n",
       "4                0.0     1.0       1.0        1.0  24.0     0.0     0.0   \n",
       "...              ...     ...       ...        ...   ...     ...     ...   \n",
       "253675           0.0     1.0       1.0        1.0  45.0     0.0     0.0   \n",
       "253676           2.0     1.0       1.0        1.0  18.0     0.0     0.0   \n",
       "253677           0.0     0.0       0.0        1.0  28.0     0.0     0.0   \n",
       "253678           0.0     1.0       0.0        1.0  23.0     0.0     0.0   \n",
       "253679           2.0     1.0       1.0        1.0  25.0     0.0     0.0   \n",
       "\n",
       "        HeartDiseaseorAttack  PhysActivity  Fruits  ...  AnyHealthcare  \\\n",
       "0                        0.0           0.0     0.0  ...            1.0   \n",
       "1                        0.0           1.0     0.0  ...            0.0   \n",
       "2                        0.0           0.0     1.0  ...            1.0   \n",
       "3                        0.0           1.0     1.0  ...            1.0   \n",
       "4                        0.0           1.0     1.0  ...            1.0   \n",
       "...                      ...           ...     ...  ...            ...   \n",
       "253675                   0.0           0.0     1.0  ...            1.0   \n",
       "253676                   0.0           0.0     0.0  ...            1.0   \n",
       "253677                   0.0           1.0     1.0  ...            1.0   \n",
       "253678                   0.0           0.0     1.0  ...            1.0   \n",
       "253679                   1.0           1.0     1.0  ...            1.0   \n",
       "\n",
       "        NoDocbcCost  GenHlth  MentHlth  PhysHlth  DiffWalk  Sex   Age  \\\n",
       "0               0.0      5.0      18.0      15.0       1.0  0.0   9.0   \n",
       "1               1.0      3.0       0.0       0.0       0.0  0.0   7.0   \n",
       "2               1.0      5.0      30.0      30.0       1.0  0.0   9.0   \n",
       "3               0.0      2.0       0.0       0.0       0.0  0.0  11.0   \n",
       "4               0.0      2.0       3.0       0.0       0.0  0.0  11.0   \n",
       "...             ...      ...       ...       ...       ...  ...   ...   \n",
       "253675          0.0      3.0       0.0       5.0       0.0  1.0   5.0   \n",
       "253676          0.0      4.0       0.0       0.0       1.0  0.0  11.0   \n",
       "253677          0.0      1.0       0.0       0.0       0.0  0.0   2.0   \n",
       "253678          0.0      3.0       0.0       0.0       0.0  1.0   7.0   \n",
       "253679          0.0      2.0       0.0       0.0       0.0  0.0   9.0   \n",
       "\n",
       "        Education  Income  \n",
       "0             4.0     3.0  \n",
       "1             6.0     1.0  \n",
       "2             4.0     8.0  \n",
       "3             3.0     6.0  \n",
       "4             5.0     4.0  \n",
       "...           ...     ...  \n",
       "253675        6.0     7.0  \n",
       "253676        2.0     4.0  \n",
       "253677        5.0     2.0  \n",
       "253678        5.0     1.0  \n",
       "253679        6.0     2.0  \n",
       "\n",
       "[229781 rows x 22 columns]"
      ]
     },
     "execution_count": 75,
     "metadata": {},
     "output_type": "execute_result"
    }
   ],
   "source": [
    "df\n",
    "\n"
   ]
  },
  {
   "cell_type": "code",
   "execution_count": 76,
   "id": "507e2fd9",
   "metadata": {},
   "outputs": [
    {
     "data": {
      "text/plain": [
       "(229781, 22)"
      ]
     },
     "execution_count": 76,
     "metadata": {},
     "output_type": "execute_result"
    }
   ],
   "source": [
    "df.shape"
   ]
  },
  {
   "cell_type": "code",
   "execution_count": 77,
   "id": "160dfecc",
   "metadata": {},
   "outputs": [],
   "source": [
    "#  box plot for MentHlth\n"
   ]
  },
  {
   "cell_type": "code",
   "execution_count": 78,
   "id": "11466799",
   "metadata": {},
   "outputs": [
    {
     "data": {
      "text/plain": [
       "<AxesSubplot:xlabel='MentHlth'>"
      ]
     },
     "execution_count": 78,
     "metadata": {},
     "output_type": "execute_result"
    },
    {
     "data": {
      "image/png": "[encoded data removed]",
      "text/plain": [
       "<Figure size 640x480 with 1 Axes>"
      ]
     },
     "metadata": {},
     "output_type": "display_data"
    }
   ],
   "source": [
    "sns.boxplot(df['MentHlth'])"
   ]
  },
  {
   "cell_type": "markdown",
   "id": "375a2281",
   "metadata": {},
   "source": [
    "# observation:\n",
    "1. number of days affecting the mental health of people o days for 50% & 1-2days for between 50%-75% people."
   ]
  },
  {
   "cell_type": "markdown",
   "id": "6e7ad7bb",
   "metadata": {},
   "source": [
    "# Q. Analyse mental health issue gnder wise"
   ]
  },
  {
   "cell_type": "code",
   "execution_count": 79,
   "id": "682735e0",
   "metadata": {},
   "outputs": [
    {
     "data": {
      "text/plain": [
       "(77158, 22)"
      ]
     },
     "execution_count": 79,
     "metadata": {},
     "output_type": "execute_result"
    }
   ],
   "source": [
    "mh=df[(df['MentHlth']!=0)]\n",
    "mh.shape"
   ]
  },
  {
   "cell_type": "code",
   "execution_count": 80,
   "id": "e9913919",
   "metadata": {},
   "outputs": [],
   "source": [
    "mh=mh[['Sex','MentHlth']]\n",
    "mh=mh[[\"Sex\"]].value_counts()"
   ]
  },
  {
   "cell_type": "code",
   "execution_count": 81,
   "id": "ada5ec67",
   "metadata": {},
   "outputs": [
    {
     "data": {
      "text/plain": [
       "Sex\n",
       "0.0    49969\n",
       "1.0    27189\n",
       "dtype: int64"
      ]
     },
     "execution_count": 81,
     "metadata": {},
     "output_type": "execute_result"
    }
   ],
   "source": [
    "mh"
   ]
  },
  {
   "cell_type": "code",
   "execution_count": 82,
   "id": "96300a1b",
   "metadata": {},
   "outputs": [
    {
     "data": {
      "text/plain": [
       "([<matplotlib.patches.Wedge at 0x26000896310>,\n",
       "  <matplotlib.patches.Wedge at 0x26000896ca0>],\n",
       " [Text(-0.4920448965094567, 0.9838149316914224, '(0.0,)'),\n",
       "  Text(0.4920449886208565, -0.98381488562285, '(1.0,)')],\n",
       " [Text(-0.26838812536879453, 0.5366263263771395, '64.76'),\n",
       "  Text(0.26838817561137623, -0.5366263012488273, '35.24')])"
      ]
     },
     "execution_count": 82,
     "metadata": {},
     "output_type": "execute_result"
    },
    {
     "data": {
      "image/png": "[encoded data removed]",
      "text/plain": [
       "<Figure size 640x480 with 1 Axes>"
      ]
     },
     "metadata": {},
     "output_type": "display_data"
    }
   ],
   "source": [
    "index=mh.index\n",
    "sizes=mh.values\n",
    "plt.pie(sizes,labels=index,autopct='%0.2f',shadow=True)"
   ]
  },
  {
   "cell_type": "markdown",
   "id": "ea190bc2",
   "metadata": {},
   "source": [
    "# observation:\n",
    "1.according to this data female have more mental health issues than male "
   ]
  },
  {
   "cell_type": "markdown",
   "id": "a95cc301",
   "metadata": {},
   "source": [
    "# Q. percentage of people who got heart attack and has difficulty to walk"
   ]
  },
  {
   "cell_type": "code",
   "execution_count": 83,
   "id": "d2cf00cd",
   "metadata": {},
   "outputs": [
    {
     "data": {
      "text/plain": [
       "(9910, 22)"
      ]
     },
     "execution_count": 83,
     "metadata": {},
     "output_type": "execute_result"
    }
   ],
   "source": [
    "ph=df[(df[\"DiffWalk\"]==1.0) & (df[\"HeartDiseaseorAttack\"]==1.0)]\n",
    "ph.shape"
   ]
  },
  {
   "cell_type": "code",
   "execution_count": 84,
   "id": "26693111",
   "metadata": {},
   "outputs": [
    {
     "data": {
      "text/plain": [
       "(42626, 22)"
      ]
     },
     "execution_count": 84,
     "metadata": {},
     "output_type": "execute_result"
    }
   ],
   "source": [
    "ph1=df[(df[\"DiffWalk\"]==1.0)]\n",
    "ph1.shape"
   ]
  },
  {
   "cell_type": "code",
   "execution_count": 85,
   "id": "48387b6d",
   "metadata": {},
   "outputs": [
    {
     "name": "stdout",
     "output_type": "stream",
     "text": [
      "percentage of people who has difficalty to walk got heart disease is  23.248721437620233\n"
     ]
    }
   ],
   "source": [
    "print(\"percentage of people who has difficalty to walk got heart disease is \", ph.shape[0]/ph1.shape[0]*100)"
   ]
  },
  {
   "cell_type": "markdown",
   "id": "6ad052d6",
   "metadata": {},
   "source": [
    "# Q. Check how many people have high cholestrol and high bp make pie chart."
   ]
  },
  {
   "cell_type": "code",
   "execution_count": 86,
   "id": "3ce5fba4",
   "metadata": {},
   "outputs": [
    {
     "data": {
      "text/plain": [
       "(104422, 22)"
      ]
     },
     "execution_count": 86,
     "metadata": {},
     "output_type": "execute_result"
    }
   ],
   "source": [
    "cholbp=df[(df[\"HighBP\"]==1.0) ]\n",
    "cholbp.shape"
   ]
  },
  {
   "cell_type": "code",
   "execution_count": 87,
   "id": "b299edb1",
   "metadata": {},
   "outputs": [
    {
     "name": "stdout",
     "output_type": "stream",
     "text": [
      "the percentage of people have both cholesterol and bp high is  45.44414029010231\n"
     ]
    }
   ],
   "source": [
    "print(\"the percentage of people have both cholesterol and bp high is \",cholbp.shape[0]/df.shape[0]*100)"
   ]
  },
  {
   "cell_type": "code",
   "execution_count": 88,
   "id": "35632fe4",
   "metadata": {},
   "outputs": [
    {
     "data": {
      "text/plain": [
       "([<matplotlib.patches.Wedge at 0x260008dc910>,\n",
       "  <matplotlib.patches.Wedge at 0x260008eb2e0>],\n",
       " [Text(-0.3280249647832183, 1.0499522000924464, '1.0'),\n",
       "  Text(0.32802496478321835, -1.0499522000924464, '0.0')],\n",
       " [Text(-0.1789227080635736, 0.5727012000504252, '59.64'),\n",
       "  Text(0.17892270806357363, -0.5727012000504252, '40.36')])"
      ]
     },
     "execution_count": 88,
     "metadata": {},
     "output_type": "execute_result"
    },
    {
     "data": {
      "image/png": "[encoded data removed]",
      "text/plain": [
       "<Figure size 640x480 with 1 Axes>"
      ]
     },
     "metadata": {},
     "output_type": "display_data"
    }
   ],
   "source": [
    "cholbp=cholbp[['HighChol','HighBP']]\n",
    "cholbp=cholbp[\"HighChol\"].value_counts()\n",
    "index=cholbp.index\n",
    "sizes=cholbp.values\n",
    "plt.pie(sizes,labels=index,autopct=\"%0.2f\",shadow=True)"
   ]
  },
  {
   "cell_type": "markdown",
   "id": "e10890c6",
   "metadata": {},
   "source": [
    "# Observation:\n",
    "1. 59.64% people who have the high cholesterol also have high BP. "
   ]
  },
  {
   "cell_type": "markdown",
   "id": "9e998d28",
   "metadata": {},
   "source": [
    "# Q. percentage of people done cholestrolcheck and have high choletrol"
   ]
  },
  {
   "cell_type": "code",
   "execution_count": 89,
   "id": "70be74e6",
   "metadata": {},
   "outputs": [
    {
     "data": {
      "text/plain": [
       "(99531, 22)"
      ]
     },
     "execution_count": 89,
     "metadata": {},
     "output_type": "execute_result"
    }
   ],
   "source": [
    "chol=df[(df[\"CholCheck\"]==1) & (df[\"HighChol\"]==1)]\n",
    "chol.shape"
   ]
  },
  {
   "cell_type": "code",
   "execution_count": 90,
   "id": "5d7f4848",
   "metadata": {},
   "outputs": [
    {
     "data": {
      "text/plain": [
       "(220483, 22)"
      ]
     },
     "execution_count": 90,
     "metadata": {},
     "output_type": "execute_result"
    }
   ],
   "source": [
    "check=df[(df[\"CholCheck\"]==1.0)]\n",
    "check.shape\n"
   ]
  },
  {
   "cell_type": "code",
   "execution_count": 91,
   "id": "e5fef171",
   "metadata": {
    "scrolled": true
   },
   "outputs": [
    {
     "name": "stdout",
     "output_type": "stream",
     "text": [
      "the percentage of people have done cholesterol check and have cholesterol 45.14225586553158\n"
     ]
    }
   ],
   "source": [
    "print(\"the percentage of people have done cholesterol check and have cholesterol\",chol.shape[0]/check.shape[0]*100)"
   ]
  },
  {
   "cell_type": "markdown",
   "id": "e74a5582",
   "metadata": {},
   "source": [
    "# Plot density graph showing the relations between smokers and their education level."
   ]
  },
  {
   "cell_type": "code",
   "execution_count": 92,
   "id": "32f4b139",
   "metadata": {},
   "outputs": [
    {
     "data": {
      "image/png": "[encoded data removed]",
      "text/plain": [
       "<Figure size 572.125x500 with 1 Axes>"
      ]
     },
     "metadata": {},
     "output_type": "display_data"
    }
   ],
   "source": [
    "sns.FacetGrid(df, hue=\"Smoker\",size=5).map(sns.distplot,\"Education\",kde=\"True\").add_legend()\n",
    "plt.show()"
   ]
  },
  {
   "cell_type": "markdown",
   "id": "e5aea987",
   "metadata": {},
   "source": [
    "# Observation:\n",
    "1. For scale 1 and 2 the number of smokers and non-smoker is almost equal.\n",
    "2. People of education scale 3 to 5 have a greater number of smokers than non-smokers.\n",
    "3. People having education level of 6 i.e., graduate have less smokers. We can say that there are less smokers in educated peoples.\n"
   ]
  },
  {
   "cell_type": "code",
   "execution_count": null,
   "id": "83a76862",
   "metadata": {},
   "outputs": [],
   "source": []
  },
  {
   "cell_type": "markdown",
   "id": "623470db",
   "metadata": {},
   "source": [
    "# Q. make a violinplot to konw if there is any relation between BMI and HighBP for both genders."
   ]
  },
  {
   "cell_type": "code",
   "execution_count": 93,
   "id": "eb257d17",
   "metadata": {},
   "outputs": [
    {
     "data": {
      "text/plain": [
       "<AxesSubplot:xlabel='HighBP', ylabel='BMI'>"
      ]
     },
     "execution_count": 93,
     "metadata": {},
     "output_type": "execute_result"
    },
    {
     "data": {
      "image/png": "[encoded data removed]",
      "text/plain": [
       "<Figure size 640x480 with 1 Axes>"
      ]
     },
     "metadata": {},
     "output_type": "display_data"
    }
   ],
   "source": [
    "sns.violinplot(x='HighBP',y='BMI',hue='Sex',data=df)"
   ]
  },
  {
   "cell_type": "markdown",
   "id": "4b7bd31e",
   "metadata": {},
   "source": [
    "# Observation\n",
    "1. people from both genders who have highbp issue has more people with unhealthy bmi"
   ]
  },
  {
   "cell_type": "code",
   "execution_count": null,
   "id": "c50667b2",
   "metadata": {},
   "outputs": [],
   "source": []
  },
  {
   "cell_type": "code",
   "execution_count": null,
   "id": "6cf22c50",
   "metadata": {},
   "outputs": [],
   "source": []
  },
  {
   "cell_type": "code",
   "execution_count": null,
   "id": "d8742af9",
   "metadata": {},
   "outputs": [],
   "source": []
  },
  {
   "cell_type": "code",
   "execution_count": null,
   "id": "09976777",
   "metadata": {},
   "outputs": [],
   "source": []
  }
 ],
 "metadata": {
  "kernelspec": {
   "display_name": "Python 3 (ipykernel)",
   "language": "python",
   "name": "python3"
  },
  "language_info": {
   "codemirror_mode": {
    "name": "ipython",
    "version": 3
   },
   "file_extension": ".py",
   "mimetype": "text/x-python",
   "name": "python",
   "nbconvert_exporter": "python",
   "pygments_lexer": "ipython3",
   "version": "3.9.13"
  }
 },
 "nbformat": 4,
 "nbformat_minor": 5
}
